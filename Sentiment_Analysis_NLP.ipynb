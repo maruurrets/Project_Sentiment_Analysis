{
 "cells": [
  {
   "cell_type": "markdown",
   "metadata": {},
   "source": [
    "# Sentiment Analysis: Large Movie Review Dataset\n",
    "\n",
    "Hi again! You will be expected to finish this on your own, but you can use the available channels on Discord to ask questions and help others. Please read the entire notebook before starting, this will give you a better idea of what you need to accomplish.\n",
    "\n",
    "This project is related to NLP. As you may already know, the most important and hardest part of an NLP project is pre-processing, which is why we are going to focus on that.\n",
    "\n",
    "Regarding the data, we are not going to have a __csv file__, that would be too easy :) instead we are going to download the data from [AI Stanford Dataset](https://ai.stanford.edu/~amaas/data/sentiment/). When you download them you will notice that their format is text files, so you will have to work a little there to be able to use and process them. This is a dataset for __binary sentiment classification__.\n",
    "\n",
    "Basically a basic sentiment analysis problem, as in this case, consists of a classification problem, where the possible output labels are: `positive` and `negative`. Which indicates, if the review of a movie speaks positively or negatively. In our case it is a binary problem, but one could have many more \"feelings\" tagged and thus allow a more granular analysis.\n",
    "\n",
    "### These are the objectives of the project:\n",
    "\n",
    "* Read data that is not in a traditional format.\n",
    "* Put together a set of preprocessing functions that we can use later on any NLP or related problems.\n",
    "* Vectorize the data in order to apply a machine learning model to it: using BoW or TF-IDF.\n",
    "* BoW and TF-IDF are classic ways to vectorize text, but currently we have some more complex ways with better performance, for this we are going to train our own word embedding and use it as a vectorization source for our data.\n",
    "* Train a sentiment analysis model that allows us to detect positive and negative opinions in movie reviews."
   ]
  },
  {
   "cell_type": "markdown",
   "metadata": {},
   "source": [
    "---\n",
    "## 1. Get the data\n",
    "\n",
    "#### Download the data and process it in order to obtain:\n",
    "\n",
    "* `X_train:` list with reviews for training.\n",
    "* `y_train:` list with labels for training.\n",
    "* `X_test:` list with reviews for testing.\n",
    "* `y_test:` list with labels for testing.\n",
    "\n",
    "`Notes:` Use the target column as `positive`, that way the positive value will be indicated with a value of `1` and negative with a value of `0`. In this case, a split train/test is not necessary because the original data is already separated."
   ]
  },
  {
   "cell_type": "code",
   "execution_count": 1,
   "metadata": {},
   "outputs": [],
   "source": [
    "import os\n",
    "\n",
    "def read_imdb(path):\n",
    "    reviews = []\n",
    "    labels = []\n",
    "    \n",
    "    for root, dir, files in os.walk(path):\n",
    "        if dir == []:\n",
    "            if \"pos\" in root:\n",
    "                for filename in files:\n",
    "                    fname=os.path.join(root, filename)\n",
    "                    with open(fname) as f:\n",
    "                        text = f.read()\n",
    "                        reviews.append(text)\n",
    "                        labels.append(1)\n",
    "            if \"neg\" in root:\n",
    "                for filename in files:\n",
    "                    fname=os.path.join(root, filename)\n",
    "                    with open(fname) as f:\n",
    "                        text = f.read()\n",
    "                        reviews.append(text)\n",
    "                        labels.append(0)\n",
    "        \n",
    "    return reviews, labels\n",
    "    "
   ]
  },
  {
   "cell_type": "code",
   "execution_count": 14,
   "metadata": {},
   "outputs": [
    {
     "data": {
      "text/plain": [
       "['labeledBow.feat',\n",
       " 'neg',\n",
       " 'pos',\n",
       " 'unsup',\n",
       " 'unsupBow.feat',\n",
       " 'urls_neg.txt',\n",
       " 'urls_pos.txt',\n",
       " 'urls_unsup.txt']"
      ]
     },
     "execution_count": 14,
     "metadata": {},
     "output_type": "execute_result"
    }
   ],
   "source": [
    "os.listdir('/home/app/src/data/train')"
   ]
  },
  {
   "cell_type": "code",
   "execution_count": 15,
   "metadata": {},
   "outputs": [],
   "source": [
    "#local path in docker\n",
    "path_train = '/home/app/src/data/train'\n",
    "path_test = '/home/app/src/data/test'\n",
    "\n",
    "#path in aws\n",
    "#path_train = '/home/app/src/sprint_06/Project_006_Sentiment_Analysis/data/aclImdb/train'\n",
    "#path_test = '/home/app/src/sprint_06/Project_006_Sentiment_Analysis/data/aclImdb/test'\n",
    "\n",
    "#path_train = '/home/app/src/data/aclImdb/train'\n",
    "#path_test = '/home/app/src/data/aclImdb/test'"
   ]
  },
  {
   "cell_type": "code",
   "execution_count": 16,
   "metadata": {},
   "outputs": [],
   "source": [
    "X_train, y_train = read_imdb(path_train)\n",
    "X_test, y_test = read_imdb(path_test)"
   ]
  },
  {
   "cell_type": "markdown",
   "metadata": {},
   "source": [
    "### *Don't change anything in this block, just make it run correctly*\n",
    "\n",
    "We are going to check that you have done it right and for that we are going to see if the dimensions match."
   ]
  },
  {
   "cell_type": "code",
   "execution_count": 17,
   "metadata": {},
   "outputs": [
    {
     "name": "stdout",
     "output_type": "stream",
     "text": [
      "Reading Data Success!\n"
     ]
    }
   ],
   "source": [
    "def check_data(X_train, y_train, X_test, y_test):\n",
    "    if len(X_train) == len(y_train) == len(X_test) == len(y_test) == 25000:\n",
    "        print('Reading Data Success!')\n",
    "    else:\n",
    "        raise ValueError('Dimensions do not match!')\n",
    "\n",
    "check_data(X_train, y_train, X_test, y_test)"
   ]
  },
  {
   "cell_type": "markdown",
   "metadata": {},
   "source": [
    "---\n",
    "## 2. Normalize the data\n",
    "\n",
    "#### Create the following functions but not here in the notebook, do it in the python script called `text_normalizer.py` and import them into the notebook (this way you can build your own NLP preprocessing library). In fact, the structure of the functions is already written, you must complete them with the code that you consider necessary.\n",
    "\n",
    "#### Respect names and minimal interfaces:\n",
    "\n",
    "* `remove_html_tags(text):` to remove all HTML tags that may be present in text.\n",
    "* `remove_accented_chars(text):` to remove accented characters from text\n",
    "* `expand_contractions(text):` to expand contractions of the type, \"don't\" to \"do not\". The contractions are already defined in the \"contractions.py\" file.\n",
    "* `lemmatize_text(text):` to lemmatize text.\n",
    "* `stem_text(text):` to apply stemming (NLTK's PorterStemmer) on text.\n",
    "* `remove_special_chars(text):` to remove special characters from text.\n",
    "* `remove_special_chars(text, remove_digits=True):` to remove numbers, note that it is the same function to remove special characters with the addition of an argument that enables or disables the removal of numbers.\n",
    "* `remove_stopwords(text, stopwords=stop_words):` to remove stopwords from text.\n",
    "* `remove_extra_new_lines(text):` to remove extra newlines from text.\n",
    "* `remove_extra_whitespace(text):` to remove extra whitespaces from text.\n",
    "\n",
    "If you want to add more features that would be great, for example you could start by removing emojis, using different stemming algorithms, etc. The more functions you have the better, remember that the texts are very varied and the preprocessing depends a lot on the source of our data.\n",
    "\n",
    "To apply each of the functions you created and pre-process the dataset, you must use the `normalize_corpus` function of the `text_normalizer.py` script. In this method each of the functions you wrote is called, in fact you must enable or disable what you consider necessary (`at this point we leave it to your free choice, for example: you can lemmatize or apply stemming or directly not apply any of the two and so on with the rest, but that is your choice`), this function simply groups the previous ones for a more simplified use."
   ]
  },
  {
   "cell_type": "code",
   "execution_count": 18,
   "metadata": {},
   "outputs": [
    {
     "name": "stdout",
     "output_type": "stream",
     "text": [
      "Defaulting to user installation because normal site-packages is not writeable\n",
      "Requirement already satisfied: gensim in /home/app/.local/lib/python3.8/site-packages (4.2.0)\n",
      "Requirement already satisfied: scipy>=0.18.1 in /home/app/.local/lib/python3.8/site-packages (from gensim) (1.10.0)\n",
      "Requirement already satisfied: numpy>=1.17.0 in /home/app/.local/lib/python3.8/site-packages (from gensim) (1.24.1)\n",
      "Requirement already satisfied: smart-open>=1.8.1 in /home/app/.local/lib/python3.8/site-packages (from gensim) (6.3.0)\n",
      "\u001b[33mWARNING: You are using pip version 22.0.4; however, version 22.3.1 is available.\n",
      "You should consider upgrading via the '/usr/local/bin/python -m pip install --upgrade pip' command.\u001b[0m\u001b[33m\n",
      "\u001b[0mNote: you may need to restart the kernel to use updated packages.\n"
     ]
    }
   ],
   "source": [
    "pip install gensim"
   ]
  },
  {
   "cell_type": "code",
   "execution_count": 70,
   "metadata": {},
   "outputs": [
    {
     "name": "stderr",
     "output_type": "stream",
     "text": [
      "[nltk_data] Downloading package punkt to /home/app/nltk_data...\n",
      "[nltk_data]   Package punkt is already up-to-date!\n"
     ]
    }
   ],
   "source": [
    "import nltk\n",
    "import importlib\n",
    "import evaluation\n",
    "import text_normalizer\n",
    "import gensim\n",
    "import gensim.downloader as api\n",
    "import numpy as np\n",
    "import pandas as pd\n",
    "from gensim.test.utils import common_texts\n",
    "from gensim.models import Word2Vec\n",
    "from sklearn.feature_extraction.text import TfidfVectorizer\n",
    "from sklearn.linear_model import LogisticRegression\n",
    "from sklearn.model_selection import GridSearchCV, RandomizedSearchCV\n",
    "from nltk.tokenize.toktok import ToktokTokenizer\n",
    "from nltk import word_tokenize\n",
    "from sklearn.pipeline import Pipeline\n",
    "nltk.download('punkt')\n",
    "from sklearn.ensemble import RandomForestClassifier"
   ]
  },
  {
   "cell_type": "code",
   "execution_count": 20,
   "metadata": {},
   "outputs": [],
   "source": [
    "stop_words = nltk.corpus.stopwords.words('english')"
   ]
  },
  {
   "cell_type": "code",
   "execution_count": 21,
   "metadata": {},
   "outputs": [
    {
     "name": "stderr",
     "output_type": "stream",
     "text": [
      "/home/app/.local/lib/python3.8/site-packages/bs4/__init__.py:435: MarkupResemblesLocatorWarning: The input looks more like a filename than markup. You may want to open this file and pass the filehandle into Beautiful Soup.\n",
      "  warnings.warn(\n"
     ]
    }
   ],
   "source": [
    "X_train2 = text_normalizer.normalize_corpus(\n",
    "    X_train,\n",
    "    html_stripping=True,\n",
    "    contraction_expansion=True,\n",
    "    accented_char_removal=True,\n",
    "    text_lower_case=True,\n",
    "    text_stemming=True,\n",
    "    text_lemmatization=False,\n",
    "    special_char_removal=True,\n",
    "    remove_digits=True,\n",
    "    stopword_removal=True,\n",
    "    stopwords=stop_words\n",
    ")"
   ]
  },
  {
   "cell_type": "code",
   "execution_count": 22,
   "metadata": {},
   "outputs": [],
   "source": [
    "X_test2 = text_normalizer.normalize_corpus(\n",
    "    X_test,\n",
    "    html_stripping=True,\n",
    "    contraction_expansion=True,\n",
    "    accented_char_removal=True,\n",
    "    text_lower_case=True,\n",
    "    text_stemming=True,\n",
    "    text_lemmatization=False,\n",
    "    special_char_removal=True,\n",
    "    remove_digits=True,\n",
    "    stopword_removal=True,\n",
    "    stopwords=stop_words\n",
    ")"
   ]
  },
  {
   "cell_type": "markdown",
   "metadata": {},
   "source": [
    "### *Don't change anything in this block, just make it run correctly*\n",
    "\n",
    "We are going to check that the pre-processing does what we need it to do, for this we are going to test the functions with predefined inputs and we are going to see if the outputs match what we are looking for.\n",
    "\n",
    "Note that the functions are not defined in the notebook itself, but rather that they are in a python file and you must import them in order to use them. Same thing with names, you're going to have to name your functions the way they were named."
   ]
  },
  {
   "cell_type": "code",
   "execution_count": 23,
   "metadata": {},
   "outputs": [
    {
     "name": "stderr",
     "output_type": "stream",
     "text": [
      "[nltk_data] Downloading package stopwords to /home/app/nltk_data...\n",
      "[nltk_data]   Package stopwords is already up-to-date!\n"
     ]
    },
    {
     "name": "stdout",
     "output_type": "stream",
     "text": [
      "[1/10] Remove HTML Success!\n",
      "[2/10] Remove Accented Success!\n",
      "[3/10] Expand Contractions Success!\n",
      "[4/10] Lemmatization Success!\n",
      "where did he learn to danc like that ? hi eye were danc with humor. she shook her head and danc away .\n",
      "[5/10] Stemming Success!\n",
      "[6/10] Remove Specials Success!\n",
      "[7/10] Remove Digits Success!\n",
      "[8/10] Remove Stopwords Success!\n",
      "[9/10] Remove New Lines Success!\n",
      "[10/10] Remove Extra Whitespaces Success!\n"
     ]
    }
   ],
   "source": [
    "importlib.reload(text_normalizer)\n",
    "\n",
    "# Inputs\n",
    "doc_html = \"\"\"\n",
    "<br /><br />But with plague out there and the news being kept a secret,\n",
    "the New Orleans PD starts a dragnet of the city's underworld.\n",
    "\"\"\"\n",
    "doc_accented = \"Héllo, thís is an accented sénténce.\"\n",
    "doc_contractions = \"I can't, because it doesn't work.\"\n",
    "doc_lemma = \"The striped bats are hanging on their feet for best\"\n",
    "doc_stem = \"\"\"\n",
    "Where did he learn to dance like that?\n",
    "His eyes were dancing with humor.\n",
    "She shook her head and danced away.\n",
    "\"\"\"\n",
    "doc_specials = \"hello? there A-Z-R_T(,**), world, welcome to python. this **should? the next line#followed- by@ an#other %million^ %%like $this.\"\n",
    "doc_digits = \"abc123def456ghi789zero0 hello my friend number 10\"\n",
    "doc_stop = \"He is a very good person\"\n",
    "doc_new_lines = \"\"\"we\n",
    "use\n",
    "a\n",
    "lot\n",
    "of\n",
    "lines\"\"\"\n",
    "doc_spaces = \"Hello           my      dear          friend\"\n",
    "\n",
    "# Outputs\n",
    "good_html = \"\"\"\n",
    "But with plague out there and the news being kept a secret,\n",
    "the New Orleans PD starts a dragnet of the city's underworld.\n",
    "\"\"\"\n",
    "good_accented = \"Hello, this is an accented sentence.\"\n",
    "good_contractions = \"I cannot, because it does not work.\"\n",
    "good_lemma = \"the stripe bat be hang on their foot for good\"\n",
    "good_stem = \"where did he learn to danc like that ? hi eye were danc with humor. she shook her head and danc away .\"\n",
    "good_specials = \"hello there AZRT world welcome to python this should the next linefollowed by another million like this\"\n",
    "good_digits = \"abcdefghizero hello my friend number \"\n",
    "good_stop = \"good person\"\n",
    "good_new_lines = \"we use a lot of lines\"\n",
    "good_spaces = \"Hello my dear friend\"\n",
    "\n",
    "\n",
    "def check_normalization():\n",
    "    if good_html == text_normalizer.remove_html_tags(doc_html):\n",
    "        print('[1/10] Remove HTML Success!')\n",
    "    else:\n",
    "        raise ValueError('[1/10] Remove HTML Fail!')\n",
    "        \n",
    "    if good_accented == text_normalizer.remove_accented_chars(doc_accented):\n",
    "        print('[2/10] Remove Accented Success!')\n",
    "    else:\n",
    "        raise ValueError('[2/10] Remove Accented Fail!')\n",
    "        \n",
    "    if good_contractions == text_normalizer.expand_contractions(doc_contractions):\n",
    "        print('[3/10] Expand Contractions Success!')\n",
    "    else:\n",
    "        raise ValueError('[3/10] Expand Contractions Fail!')\n",
    "        \n",
    "    if good_lemma == text_normalizer.lemmatize_text(doc_lemma):\n",
    "        print('[4/10] Lemmatization Success!')\n",
    "    else:\n",
    "        raise ValueError('[4/10] Lemmatization Fail!')\n",
    "        \n",
    "    print(text_normalizer.stem_text(doc_stem))\n",
    "    if good_stem == text_normalizer.stem_text(doc_stem):\n",
    "        print('[5/10] Stemming Success!')\n",
    "    else:\n",
    "        raise ValueError('[5/10] Stemming Fail!')\n",
    "        \n",
    "    if good_specials == text_normalizer.remove_special_chars(doc_specials):\n",
    "        print('[6/10] Remove Specials Success!')\n",
    "    else:\n",
    "        raise ValueError('[6/8] Remove Specials Fail!')\n",
    "        \n",
    "    if good_digits == text_normalizer.remove_special_chars(doc_digits, remove_digits=True):\n",
    "        print('[7/10] Remove Digits Success!')\n",
    "    else:\n",
    "        raise ValueError('[7/10] Remove Digits Fail!')\n",
    "        \n",
    "    if good_stop == text_normalizer.remove_stopwords(doc_stop, stopwords=stop_words):\n",
    "        print('[8/10] Remove Stopwords Success!')\n",
    "    else:\n",
    "        raise ValueError('[8/10] Remove Stopwords Fail!')\n",
    "    \n",
    "    if good_new_lines == text_normalizer.remove_extra_new_lines(doc_new_lines):\n",
    "        print('[9/10] Remove New Lines Success!')\n",
    "    else:\n",
    "        raise ValueError('[9/10] Remove New Lines Fail!')\n",
    "        \n",
    "    if good_spaces == text_normalizer.remove_extra_whitespace(doc_spaces):\n",
    "        print('[10/10] Remove Extra Whitespaces Success!')\n",
    "    else:\n",
    "        raise ValueError('[10/10] Remove Extra Whitespaces Fail!')\n",
    "\n",
    "check_normalization()"
   ]
  },
  {
   "cell_type": "markdown",
   "metadata": {},
   "source": [
    "---\n",
    "## 3. Feature Engineering\n",
    "\n",
    "You already have the pr-eprocessed data, now you must vectorize them, because remember that the models only understand numbers. At this stage choose whether you want to vectorize with BoW or with TF-IDF. Later we will train our own embedding but for now we go with a more \"classic\" vectorization."
   ]
  },
  {
   "cell_type": "code",
   "execution_count": 24,
   "metadata": {},
   "outputs": [],
   "source": [
    "# Create an object\n",
    "#cv = CountVectorizer(ngram_range=(1,2))  \n",
    "#cv = CountVectorizer()\n",
    "\n",
    "# Generating output for Bag of Words\n",
    "#B_O_W_train = cv.fit_transform(X_train2).toarray()\n",
    "\n",
    "#B_O_W_test = cv.transform(X_test2).toarray()\n",
    "\n",
    "tfidf  = TfidfVectorizer()\n",
    "tdidf_train = tfidf.fit_transform(X_train2)\n",
    "tdidf_test = tfidf.transform(X_test2)"
   ]
  },
  {
   "cell_type": "markdown",
   "metadata": {},
   "source": [
    "## 4. Modeling and Performance Evaluation\n",
    "\n",
    "As we said at the beginning, what interests us most in this part is pre-processing. However, we must train a model, so choose a model of your choice (obviously a classification model, given the problem we are facing) and apply everything we learned. Also if you want you can try several models, the more models you use and know better!\n",
    "\n",
    "In addition to training the model we ask you to show:\n",
    "\n",
    "* `Precision`\n",
    "* `Recall`\n",
    "* `F1-Score`\n",
    "* `Classification Report`\n",
    "* `Confusion Matrix`\n",
    "\n",
    "To do this you must complete the `get_performance` function of the `evaluation.py` script.\n",
    "\n",
    "Also, you must complete the `plot_roc` function so that it can show:\n",
    "\n",
    "* `ROC Curve`\n",
    "* `Obtain the ROC-AUC value (later we will do a small minimum performance check with this value)`"
   ]
  },
  {
   "cell_type": "code",
   "execution_count": 25,
   "metadata": {},
   "outputs": [],
   "source": [
    "lr_clf = LogisticRegression()\n",
    "lr_clf.fit(tdidf_train, y_train)\n",
    "\n",
    "train_preds = lr_clf.predict(tdidf_train)\n",
    "test_preds = lr_clf.predict(tdidf_test)"
   ]
  },
  {
   "cell_type": "code",
   "execution_count": 26,
   "metadata": {},
   "outputs": [
    {
     "name": "stdout",
     "output_type": "stream",
     "text": [
      "Model Performance metrics:\n",
      "------------------------------\n",
      "Accuracy: 0.87652\n",
      "Precision: 0.8743338900819215\n",
      "Recall: 0.87944\n",
      "F1 Score: 0.8768795118254696\n",
      "\n",
      "Model Classification report:\n",
      "------------------------------\n",
      "              precision    recall  f1-score   support\n",
      "\n",
      "           0       0.88      0.87      0.88     12500\n",
      "           1       0.87      0.88      0.88     12500\n",
      "\n",
      "    accuracy                           0.88     25000\n",
      "   macro avg       0.88      0.88      0.88     25000\n",
      "weighted avg       0.88      0.88      0.88     25000\n",
      "\n",
      "\n",
      "Prediction Confusion Matrix:\n",
      "------------------------------\n",
      "       0      1\n",
      "0  10993   1507\n",
      "1   1580  10920\n"
     ]
    },
    {
     "data": {
      "text/plain": [
       "(0.87652, 0.8743338900819215, 0.87944, 0.8768795118254696)"
      ]
     },
     "execution_count": 26,
     "metadata": {},
     "output_type": "execute_result"
    }
   ],
   "source": [
    "importlib.reload(evaluation)\n",
    "\n",
    "evaluation.get_performance(predictions=test_preds, y_test=y_test)"
   ]
  },
  {
   "cell_type": "code",
   "execution_count": 27,
   "metadata": {},
   "outputs": [
    {
     "data": {
      "image/png": "[encoded data removed]",
      "text/plain": [
       "<Figure size 1000x500 with 1 Axes>"
      ]
     },
     "metadata": {},
     "output_type": "display_data"
    }
   ],
   "source": [
    "importlib.reload(evaluation)\n",
    "\n",
    "roc_auc_test = evaluation.plot_roc(model=lr_clf, y_test=y_test, features=tdidf_test)"
   ]
  },
  {
   "cell_type": "markdown",
   "metadata": {},
   "source": [
    "### *Don't change anything in this block, just make it run correctly*\n",
    "\n",
    "Let's check that the `get_performance` function returns the metrics correctly. For that we are going to simulate input/output data of a model."
   ]
  },
  {
   "cell_type": "code",
   "execution_count": 28,
   "metadata": {},
   "outputs": [
    {
     "name": "stdout",
     "output_type": "stream",
     "text": [
      "Model Performance metrics:\n",
      "------------------------------\n",
      "Accuracy: 0.6\n",
      "Precision: 0.6\n",
      "Recall: 0.6\n",
      "F1 Score: 0.6\n",
      "\n",
      "Model Classification report:\n",
      "------------------------------\n",
      "              precision    recall  f1-score   support\n",
      "\n",
      "           0       0.60      0.60      0.60         5\n",
      "           1       0.60      0.60      0.60         5\n",
      "\n",
      "    accuracy                           0.60        10\n",
      "   macro avg       0.60      0.60      0.60        10\n",
      "weighted avg       0.60      0.60      0.60        10\n",
      "\n",
      "\n",
      "Prediction Confusion Matrix:\n",
      "------------------------------\n",
      "   0  1\n",
      "0  3  2\n",
      "1  2  3\n",
      "Success!\n"
     ]
    }
   ],
   "source": [
    "importlib.reload(evaluation)\n",
    "\n",
    "def check_basic_metrics():\n",
    "    accuracy, precision, recall, f1_score = evaluation.get_performance(\n",
    "        [1, 1, 1, 1, 1, 0, 0, 0, 0, 0], \n",
    "        [1, 1, 1, 0, 0, 1, 1, 0, 0, 0]\n",
    "    )\n",
    "    \n",
    "    if (accuracy, precision, recall, f1_score) == (0.6, 0.6, 0.6, 0.6):\n",
    "        print('Success!')\n",
    "    else:\n",
    "        raise ValueError('You must check your get_performance function!')\n",
    "        \n",
    "check_basic_metrics()"
   ]
  },
  {
   "cell_type": "markdown",
   "metadata": {},
   "source": [
    "Let's see if your model at least exceeds an ROC-AUC of 0.93"
   ]
  },
  {
   "cell_type": "code",
   "execution_count": 29,
   "metadata": {},
   "outputs": [
    {
     "name": "stdout",
     "output_type": "stream",
     "text": [
      "Success!\n"
     ]
    }
   ],
   "source": [
    "def check_roc(roc_auc):\n",
    "    if roc_auc > 0.93:\n",
    "        print('Success!')\n",
    "    else:\n",
    "        raise ValueError('Your model is not good enough!')\n",
    "        \n",
    "check_roc(roc_auc_test)"
   ]
  },
  {
   "cell_type": "markdown",
   "metadata": {},
   "source": [
    "---\n",
    "## 5. Feature Engineering with Custom Word Embedding\n",
    "\n",
    "### Tokenize reviews and train your own Word Embedding\n",
    "\n",
    "You are going to have to train your own word embedding, for this we are going to use the __gensim__ library. The only requirement we ask of you is that the $vector\\_size=100$.\n",
    "\n",
    "[Here](https://radimrehurek.com/gensim/models/word2vec.html) you can read Gensim's Word2Vec documentation so you can train your own embedding, using the review data as a corpus.\n",
    "\n",
    "As a previous step to training your word embedding you must tokenize the corpus, this may take a bit depending on the size of the dataset and the tokenizer we use, if you want you can try the NLTK tokenizer called `ToktokTokenizer`, which turns out to be a little faster (we hope that this recommendation does not bias your work, try and use the ones you want)"
   ]
  },
  {
   "cell_type": "code",
   "execution_count": 30,
   "metadata": {},
   "outputs": [],
   "source": [
    "X_train2 = pd.Series(X_train2)\n",
    "X_test2 = pd.Series(X_test2)"
   ]
  },
  {
   "cell_type": "code",
   "execution_count": 31,
   "metadata": {},
   "outputs": [],
   "source": [
    "X_train_tok = X_train2.apply(nltk.word_tokenize)\n",
    "X_test_tok = X_test2.apply(nltk.word_tokenize)"
   ]
  },
  {
   "cell_type": "code",
   "execution_count": 32,
   "metadata": {},
   "outputs": [],
   "source": [
    "model_w2v = Word2Vec(sentences=X_train_tok, vector_size=100, window=20, negative=50, min_count=1, workers=4, seed=50)"
   ]
  },
  {
   "cell_type": "markdown",
   "metadata": {},
   "source": [
    "### Generate averaged word vector features\n",
    "\n",
    "Once the embedding has been trained, we must use it. Remember that embedding will convert each word you pass to it into a vector of a given dimension (in our case $vector\\_size=100$). So in order to obtain a vector for each review, you must average the vectors of all the words that are part of the same review.\n",
    "\n",
    "The function must have the following form:\n",
    "* `vectorizer(corpus, model, num_features=100)`\n",
    "\n",
    "\n",
    "Where:\n",
    "* `corpus:` corresponds to the entire dataset, in this way we obtain an average vector for each review, with a single call to the function.\n",
    "* `model:` is your trained model.\n",
    "* `num_features:` the dimension of the output vector of your embedding (remember that in our case we set this value to 100)."
   ]
  },
  {
   "cell_type": "code",
   "execution_count": 66,
   "metadata": {},
   "outputs": [],
   "source": [
    "def vectorizer(corpus, model, num_features=100):\n",
    "\n",
    "    corpus_vectorized = []\n",
    "    for sentence in corpus:\n",
    "        vectors = []\n",
    "        for word in sentence:\n",
    "            try:\n",
    "                word_vec = model.wv[word]\n",
    "                vectors.append(word_vec)\n",
    "            except:\n",
    "                pass\n",
    "\n",
    "        sentence_vectorized = np.mean(vectors, axis=0) if len(vectors) != 0 else np.zeros(num_features,0)\n",
    "        corpus_vectorized.append(sentence_vectorized)\n",
    "\n",
    "    return corpus_vectorized"
   ]
  },
  {
   "cell_type": "code",
   "execution_count": 67,
   "metadata": {},
   "outputs": [],
   "source": [
    "X_train_word2vec = vectorizer(X_train_tok, model_w2v, num_features=100)\n",
    "X_test_word2vec = vectorizer(X_train_tok, model_w2v, num_features=100)"
   ]
  },
  {
   "cell_type": "markdown",
   "metadata": {},
   "source": [
    "### *Don't change anything in this block, just make it run correctly*\n",
    "\n",
    "Let's do a simple check of the embedding that you just trained."
   ]
  },
  {
   "cell_type": "code",
   "execution_count": 68,
   "metadata": {},
   "outputs": [
    {
     "name": "stdout",
     "output_type": "stream",
     "text": [
      "Success! Your embedding tells me that \"women\" and \"man\" are similar with a score of 0.6200812458992004\n"
     ]
    }
   ],
   "source": [
    "def check_embedding(model):\n",
    "    vector = model.wv['computer']\n",
    "    if len(vector) == 100:\n",
    "        print(\n",
    "            'Success! Your embedding tells me that \"women\" and \"man\" '\n",
    "            f'are similar with a score of {model.wv.similarity(\"woman\", \"man\")}'\n",
    "        )\n",
    "    else:\n",
    "        raise ValueError('You should check your embedding vector size!')\n",
    "        \n",
    "check_embedding(model_w2v)"
   ]
  },
  {
   "cell_type": "markdown",
   "metadata": {},
   "source": [
    "Now, we are going to check the vectorizer, remember that the vectorizer must generate an average vector of all the words present in the same review. So we're going to get two vectors of two words and manually average them, then using those two words we'll simulate a tokenized sentence and see that it matches the manual way."
   ]
  },
  {
   "cell_type": "code",
   "execution_count": 69,
   "metadata": {},
   "outputs": [
    {
     "name": "stdout",
     "output_type": "stream",
     "text": [
      "Success!\n"
     ]
    }
   ],
   "source": [
    "def check_vectorizer(model):\n",
    "    vector1 = model.wv['personal']\n",
    "    vector2 = model.wv['computer']\n",
    "    avg = vectorizer([['personal', 'computer']], model)[0]\n",
    "\n",
    "    if np.allclose((vector1 + vector2) / 2, avg):\n",
    "        print('Success!')\n",
    "    else:\n",
    "        raise ValueError('You should check your vectorizer!')\n",
    "        \n",
    "check_vectorizer(model_w2v)"
   ]
  },
  {
   "cell_type": "markdown",
   "metadata": {},
   "source": [
    "### Modeling\n",
    "\n",
    "Finally train a new model, it can be the same one you used before and compare the results you got using BoW/TF-IDF and Word2Vec.\n",
    "\n",
    "In addition to training the model we ask you to show:\n",
    "\n",
    "* `Accuracy`\n",
    "* `Recall`\n",
    "* `F1-Score`\n",
    "* `Classification Report`\n",
    "* `Confusion Matrix`\n",
    "* `ROC Curve`\n",
    "* `Obtain the ROC-AUC value (later we will do a small minimum performance check with this value)`"
   ]
  },
  {
   "cell_type": "code",
   "execution_count": 75,
   "metadata": {},
   "outputs": [],
   "source": [
    "rfc = RandomForestClassifier()\n",
    "rfc.fit(X_train_word2vec, y_train)\n",
    "\n",
    "train_preds3 = rfc.predict(X_train_word2vec)\n",
    "test_preds3 = rfc.predict(X_test_word2vec)"
   ]
  },
  {
   "cell_type": "code",
   "execution_count": 76,
   "metadata": {},
   "outputs": [
    {
     "name": "stdout",
     "output_type": "stream",
     "text": [
      "Model Performance metrics:\n",
      "------------------------------\n",
      "Accuracy: 1.0\n",
      "Precision: 1.0\n",
      "Recall: 1.0\n",
      "F1 Score: 1.0\n",
      "\n",
      "Model Classification report:\n",
      "------------------------------\n",
      "              precision    recall  f1-score   support\n",
      "\n",
      "           0       1.00      1.00      1.00     12500\n",
      "           1       1.00      1.00      1.00     12500\n",
      "\n",
      "    accuracy                           1.00     25000\n",
      "   macro avg       1.00      1.00      1.00     25000\n",
      "weighted avg       1.00      1.00      1.00     25000\n",
      "\n",
      "\n",
      "Prediction Confusion Matrix:\n",
      "------------------------------\n",
      "       0      1\n",
      "0  12500      0\n",
      "1      0  12500\n"
     ]
    },
    {
     "data": {
      "text/plain": [
       "(1.0, 1.0, 1.0, 1.0)"
      ]
     },
     "execution_count": 76,
     "metadata": {},
     "output_type": "execute_result"
    }
   ],
   "source": [
    "importlib.reload(evaluation)\n",
    "\n",
    "evaluation.get_performance(predictions=test_preds3, y_test=y_test)"
   ]
  },
  {
   "cell_type": "code",
   "execution_count": 77,
   "metadata": {},
   "outputs": [
    {
     "data": {
      "image/png": "[encoded data removed]",
      "text/plain": [
       "<Figure size 1000x500 with 1 Axes>"
      ]
     },
     "metadata": {},
     "output_type": "display_data"
    }
   ],
   "source": [
    "importlib.reload(evaluation)\n",
    "\n",
    "roc_auc_w2v = evaluation.plot_roc(model=rfc, y_test=y_test, features=X_test_word2vec)"
   ]
  },
  {
   "cell_type": "markdown",
   "metadata": {},
   "source": [
    "### *Don't change anything in this block, just make it run correctly*"
   ]
  },
  {
   "cell_type": "code",
   "execution_count": 74,
   "metadata": {},
   "outputs": [
    {
     "name": "stdout",
     "output_type": "stream",
     "text": [
      "Success!\n"
     ]
    }
   ],
   "source": [
    "check_roc(roc_auc_w2v)"
   ]
  },
  {
   "cell_type": "markdown",
   "metadata": {},
   "source": [
    "---\n",
    "### OPTIONAL:\n",
    "\n",
    "In our case, we train a word embedding from scratch, which is very good at an educational level, but when applying it to a real problem, we need a lot of data (which is not the case with our problem). Therefore, we invite you to investigate and use one of the `pre-trained Word2Vec models`.\n",
    "\n",
    "If you look for the `Pretrained models` section in this [link](https://radimrehurek.com/gensim/models/word2vec.html), you will find information about the models that Gensim owns."
   ]
  },
  {
   "cell_type": "code",
   "execution_count": 45,
   "metadata": {},
   "outputs": [
    {
     "name": "stdout",
     "output_type": "stream",
     "text": [
      "[==========----------------------------------------] 21.6% 81.3/376.1MB downloaded[CV 4/5; 1/15] START clf__C=0.01, clf__max_iter=100.............................\n",
      "[CV 4/5; 1/15] END clf__C=0.01, clf__max_iter=100;, score=0.877 total time=   0.3s\n",
      "[CV 1/5; 4/15] START clf__C=0.1, clf__max_iter=100..............................\n",
      "[CV 1/5; 4/15] END clf__C=0.1, clf__max_iter=100;, score=0.894 total time=   0.3s\n",
      "[CV 3/5; 6/15] START clf__C=0.1, clf__max_iter=500..............................\n",
      "[CV 3/5; 6/15] END clf__C=0.1, clf__max_iter=500;, score=0.879 total time=   0.5s\n",
      "[CV 5/5; 8/15] START clf__C=1, clf__max_iter=300................................\n",
      "[CV 5/5; 8/15] END .clf__C=1, clf__max_iter=300;, score=0.897 total time=   1.1s\n",
      "[CV 2/5; 11/15] START clf__C=10, clf__max_iter=300..............................\n",
      "[CV 2/5; 11/15] END clf__C=10, clf__max_iter=300;, score=0.896 total time=   1.1s\n",
      "[CV 4/5; 13/15] START clf__C=30, clf__max_iter=100..............................\n",
      "[CV 4/5; 13/15] END clf__C=30, clf__max_iter=100;, score=0.886 total time=   0.3s\n",
      "[==========----------------------------------------] 21.9% 82.5/376.1MB downloaded"
     ]
    },
    {
     "name": "stderr",
     "output_type": "stream",
     "text": [
      "/home/app/.local/lib/python3.8/site-packages/sklearn/linear_model/_logistic.py:444: ConvergenceWarning: lbfgs failed to converge (status=1):\n",
      "STOP: TOTAL NO. of ITERATIONS REACHED LIMIT.\n",
      "\n",
      "Increase the number of iterations (max_iter) or scale the data as shown in:\n",
      "    https://scikit-learn.org/stable/modules/preprocessing.html\n",
      "Please also refer to the documentation for alternative solver options:\n",
      "    https://scikit-learn.org/stable/modules/linear_model.html#logistic-regression\n",
      "  n_iter_i = _check_optimize_result(\n",
      "/home/app/.local/lib/python3.8/site-packages/sklearn/linear_model/_logistic.py:444: ConvergenceWarning: lbfgs failed to converge (status=1):\n",
      "STOP: TOTAL NO. of ITERATIONS REACHED LIMIT.\n",
      "\n",
      "Increase the number of iterations (max_iter) or scale the data as shown in:\n",
      "    https://scikit-learn.org/stable/modules/preprocessing.html\n",
      "Please also refer to the documentation for alternative solver options:\n",
      "    https://scikit-learn.org/stable/modules/linear_model.html#logistic-regression\n",
      "  n_iter_i = _check_optimize_result(\n",
      "/home/app/.local/lib/python3.8/site-packages/sklearn/linear_model/_logistic.py:444: ConvergenceWarning: lbfgs failed to converge (status=1):\n",
      "STOP: TOTAL NO. of ITERATIONS REACHED LIMIT.\n",
      "\n",
      "Increase the number of iterations (max_iter) or scale the data as shown in:\n",
      "    https://scikit-learn.org/stable/modules/preprocessing.html\n",
      "Please also refer to the documentation for alternative solver options:\n",
      "    https://scikit-learn.org/stable/modules/linear_model.html#logistic-regression\n",
      "  n_iter_i = _check_optimize_result(\n"
     ]
    },
    {
     "name": "stdout",
     "output_type": "stream",
     "text": [
      "[===========---------------------------------------] 22.3% 83.8/376.1MB downloaded[CV 5/5; 1/15] START clf__C=0.01, clf__max_iter=100.............................\n",
      "[CV 5/5; 1/15] END clf__C=0.01, clf__max_iter=100;, score=0.888 total time=   0.3s\n",
      "[CV 2/5; 4/15] START clf__C=0.1, clf__max_iter=100..............................\n",
      "[CV 2/5; 4/15] END clf__C=0.1, clf__max_iter=100;, score=0.895 total time=   0.3s\n",
      "[CV 4/5; 6/15] START clf__C=0.1, clf__max_iter=500..............................\n",
      "[CV 4/5; 6/15] END clf__C=0.1, clf__max_iter=500;, score=0.885 total time=   0.5s\n",
      "[CV 1/5; 9/15] START clf__C=1, clf__max_iter=500................................\n",
      "[CV 1/5; 9/15] END .clf__C=1, clf__max_iter=500;, score=0.896 total time=   1.2s\n",
      "[CV 3/5; 11/15] START clf__C=10, clf__max_iter=300..............................\n",
      "[CV 3/5; 11/15] END clf__C=10, clf__max_iter=300;, score=0.881 total time=   1.2s\n",
      "[CV 5/5; 13/15] START clf__C=30, clf__max_iter=100..............................\n",
      "[CV 5/5; 13/15] END clf__C=30, clf__max_iter=100;, score=0.897 total time=   0.3s\n",
      "[===========---------------------------------------] 22.6% 85.1/376.1MB downloaded"
     ]
    },
    {
     "name": "stderr",
     "output_type": "stream",
     "text": [
      "/home/app/.local/lib/python3.8/site-packages/sklearn/linear_model/_logistic.py:444: ConvergenceWarning: lbfgs failed to converge (status=1):\n",
      "STOP: TOTAL NO. of ITERATIONS REACHED LIMIT.\n",
      "\n",
      "Increase the number of iterations (max_iter) or scale the data as shown in:\n",
      "    https://scikit-learn.org/stable/modules/preprocessing.html\n",
      "Please also refer to the documentation for alternative solver options:\n",
      "    https://scikit-learn.org/stable/modules/linear_model.html#logistic-regression\n",
      "  n_iter_i = _check_optimize_result(\n",
      "/home/app/.local/lib/python3.8/site-packages/sklearn/linear_model/_logistic.py:444: ConvergenceWarning: lbfgs failed to converge (status=1):\n",
      "STOP: TOTAL NO. of ITERATIONS REACHED LIMIT.\n",
      "\n",
      "Increase the number of iterations (max_iter) or scale the data as shown in:\n",
      "    https://scikit-learn.org/stable/modules/preprocessing.html\n",
      "Please also refer to the documentation for alternative solver options:\n",
      "    https://scikit-learn.org/stable/modules/linear_model.html#logistic-regression\n",
      "  n_iter_i = _check_optimize_result(\n",
      "/home/app/.local/lib/python3.8/site-packages/sklearn/linear_model/_logistic.py:444: ConvergenceWarning: lbfgs failed to converge (status=1):\n",
      "STOP: TOTAL NO. of ITERATIONS REACHED LIMIT.\n",
      "\n",
      "Increase the number of iterations (max_iter) or scale the data as shown in:\n",
      "    https://scikit-learn.org/stable/modules/preprocessing.html\n",
      "Please also refer to the documentation for alternative solver options:\n",
      "    https://scikit-learn.org/stable/modules/linear_model.html#logistic-regression\n",
      "  n_iter_i = _check_optimize_result(\n"
     ]
    },
    {
     "name": "stdout",
     "output_type": "stream",
     "text": [
      "[============--------------------------------------] 24.7% 92.8/376.1MB downloaded[CV 1/5; 2/15] START clf__C=0.01, clf__max_iter=300.............................\n",
      "[CV 1/5; 2/15] END clf__C=0.01, clf__max_iter=300;, score=0.886 total time=   0.3s\n",
      "[CV 3/5; 4/15] START clf__C=0.1, clf__max_iter=100..............................\n",
      "[CV 3/5; 4/15] END clf__C=0.1, clf__max_iter=100;, score=0.879 total time=   0.3s\n",
      "[CV 5/5; 6/15] START clf__C=0.1, clf__max_iter=500..............................\n",
      "[CV 5/5; 6/15] END clf__C=0.1, clf__max_iter=500;, score=0.896 total time=   0.5s\n",
      "[CV 2/5; 9/15] START clf__C=1, clf__max_iter=500................................\n",
      "[CV 2/5; 9/15] END .clf__C=1, clf__max_iter=500;, score=0.896 total time=   1.3s\n",
      "[CV 4/5; 11/15] START clf__C=10, clf__max_iter=300..............................\n",
      "[CV 4/5; 11/15] END clf__C=10, clf__max_iter=300;, score=0.886 total time=   1.1s\n",
      "[CV 1/5; 14/15] START clf__C=30, clf__max_iter=300..............................\n",
      "[CV 1/5; 14/15] END clf__C=30, clf__max_iter=300;, score=0.896 total time=   1.1s\n",
      "[============--------------------------------------] 25.0% 94.1/376.1MB downloaded"
     ]
    },
    {
     "name": "stderr",
     "output_type": "stream",
     "text": [
      "/home/app/.local/lib/python3.8/site-packages/sklearn/linear_model/_logistic.py:444: ConvergenceWarning: lbfgs failed to converge (status=1):\n",
      "STOP: TOTAL NO. of ITERATIONS REACHED LIMIT.\n",
      "\n",
      "Increase the number of iterations (max_iter) or scale the data as shown in:\n",
      "    https://scikit-learn.org/stable/modules/preprocessing.html\n",
      "Please also refer to the documentation for alternative solver options:\n",
      "    https://scikit-learn.org/stable/modules/linear_model.html#logistic-regression\n",
      "  n_iter_i = _check_optimize_result(\n",
      "/home/app/.local/lib/python3.8/site-packages/sklearn/linear_model/_logistic.py:444: ConvergenceWarning: lbfgs failed to converge (status=1):\n",
      "STOP: TOTAL NO. of ITERATIONS REACHED LIMIT.\n",
      "\n",
      "Increase the number of iterations (max_iter) or scale the data as shown in:\n",
      "    https://scikit-learn.org/stable/modules/preprocessing.html\n",
      "Please also refer to the documentation for alternative solver options:\n",
      "    https://scikit-learn.org/stable/modules/linear_model.html#logistic-regression\n",
      "  n_iter_i = _check_optimize_result(\n"
     ]
    },
    {
     "name": "stdout",
     "output_type": "stream",
     "text": [
      "[============--------------------------------------] 25.6% 96.3/376.1MB downloaded[CV 2/5; 2/15] START clf__C=0.01, clf__max_iter=300.............................\n",
      "[CV 2/5; 2/15] END clf__C=0.01, clf__max_iter=300;, score=0.889 total time=   0.3s\n",
      "[CV 4/5; 4/15] START clf__C=0.1, clf__max_iter=100..............................\n",
      "[CV 4/5; 4/15] END clf__C=0.1, clf__max_iter=100;, score=0.885 total time=   0.3s\n",
      "[CV 1/5; 7/15] START clf__C=1, clf__max_iter=100................................\n",
      "[CV 1/5; 7/15] END .clf__C=1, clf__max_iter=100;, score=0.896 total time=   0.3s\n",
      "[CV 3/5; 9/15] START clf__C=1, clf__max_iter=500................................\n",
      "[CV 3/5; 9/15] END .clf__C=1, clf__max_iter=500;, score=0.881 total time=   1.1s\n",
      "[CV 5/5; 11/15] START clf__C=10, clf__max_iter=300..............................\n",
      "[CV 5/5; 11/15] END clf__C=10, clf__max_iter=300;, score=0.897 total time=   1.3s\n",
      "[CV 2/5; 14/15] START clf__C=30, clf__max_iter=300..............................\n",
      "[CV 2/5; 14/15] END clf__C=30, clf__max_iter=300;, score=0.896 total time=   1.1s\n",
      "[============--------------------------------------] 25.9% 97.5/376.1MB downloaded"
     ]
    },
    {
     "name": "stderr",
     "output_type": "stream",
     "text": [
      "/home/app/.local/lib/python3.8/site-packages/sklearn/linear_model/_logistic.py:444: ConvergenceWarning: lbfgs failed to converge (status=1):\n",
      "STOP: TOTAL NO. of ITERATIONS REACHED LIMIT.\n",
      "\n",
      "Increase the number of iterations (max_iter) or scale the data as shown in:\n",
      "    https://scikit-learn.org/stable/modules/preprocessing.html\n",
      "Please also refer to the documentation for alternative solver options:\n",
      "    https://scikit-learn.org/stable/modules/linear_model.html#logistic-regression\n",
      "  n_iter_i = _check_optimize_result(\n",
      "/home/app/.local/lib/python3.8/site-packages/sklearn/linear_model/_logistic.py:444: ConvergenceWarning: lbfgs failed to converge (status=1):\n",
      "STOP: TOTAL NO. of ITERATIONS REACHED LIMIT.\n",
      "\n",
      "Increase the number of iterations (max_iter) or scale the data as shown in:\n",
      "    https://scikit-learn.org/stable/modules/preprocessing.html\n",
      "Please also refer to the documentation for alternative solver options:\n",
      "    https://scikit-learn.org/stable/modules/linear_model.html#logistic-regression\n",
      "  n_iter_i = _check_optimize_result(\n"
     ]
    },
    {
     "name": "stdout",
     "output_type": "stream",
     "text": [
      "[=============-------------------------------------] 26.8% 100.6/376.1MB downloaded[CV 3/5; 2/15] START clf__C=0.01, clf__max_iter=300.............................\n",
      "[CV 3/5; 2/15] END clf__C=0.01, clf__max_iter=300;, score=0.874 total time=   0.2s\n",
      "[CV 5/5; 4/15] START clf__C=0.1, clf__max_iter=100..............................\n",
      "[CV 5/5; 4/15] END clf__C=0.1, clf__max_iter=100;, score=0.896 total time=   0.3s\n",
      "[CV 2/5; 7/15] START clf__C=1, clf__max_iter=100................................\n",
      "[CV 2/5; 7/15] END .clf__C=1, clf__max_iter=100;, score=0.896 total time=   0.3s\n",
      "[CV 4/5; 9/15] START clf__C=1, clf__max_iter=500................................\n",
      "[CV 4/5; 9/15] END .clf__C=1, clf__max_iter=500;, score=0.886 total time=   1.0s\n",
      "[CV 1/5; 12/15] START clf__C=10, clf__max_iter=500..............................\n",
      "[CV 1/5; 12/15] END clf__C=10, clf__max_iter=500;, score=0.896 total time=   1.2s\n",
      "[CV 3/5; 14/15] START clf__C=30, clf__max_iter=300..............................\n",
      "[CV 3/5; 14/15] END clf__C=30, clf__max_iter=300;, score=0.881 total time=   1.1s\n",
      "[=============-------------------------------------] 27.1% 102.0/376.1MB downloaded"
     ]
    },
    {
     "name": "stderr",
     "output_type": "stream",
     "text": [
      "/home/app/.local/lib/python3.8/site-packages/sklearn/linear_model/_logistic.py:444: ConvergenceWarning: lbfgs failed to converge (status=1):\n",
      "STOP: TOTAL NO. of ITERATIONS REACHED LIMIT.\n",
      "\n",
      "Increase the number of iterations (max_iter) or scale the data as shown in:\n",
      "    https://scikit-learn.org/stable/modules/preprocessing.html\n",
      "Please also refer to the documentation for alternative solver options:\n",
      "    https://scikit-learn.org/stable/modules/linear_model.html#logistic-regression\n",
      "  n_iter_i = _check_optimize_result(\n",
      "/home/app/.local/lib/python3.8/site-packages/sklearn/linear_model/_logistic.py:444: ConvergenceWarning: lbfgs failed to converge (status=1):\n",
      "STOP: TOTAL NO. of ITERATIONS REACHED LIMIT.\n",
      "\n",
      "Increase the number of iterations (max_iter) or scale the data as shown in:\n",
      "    https://scikit-learn.org/stable/modules/preprocessing.html\n",
      "Please also refer to the documentation for alternative solver options:\n",
      "    https://scikit-learn.org/stable/modules/linear_model.html#logistic-regression\n",
      "  n_iter_i = _check_optimize_result(\n",
      "/home/app/.local/lib/python3.8/site-packages/sklearn/linear_model/_logistic.py:444: ConvergenceWarning: lbfgs failed to converge (status=1):\n",
      "STOP: TOTAL NO. of ITERATIONS REACHED LIMIT.\n",
      "\n",
      "Increase the number of iterations (max_iter) or scale the data as shown in:\n",
      "    https://scikit-learn.org/stable/modules/preprocessing.html\n",
      "Please also refer to the documentation for alternative solver options:\n",
      "    https://scikit-learn.org/stable/modules/linear_model.html#logistic-regression\n",
      "  n_iter_i = _check_optimize_result(\n"
     ]
    },
    {
     "name": "stdout",
     "output_type": "stream",
     "text": [
      "[=============-------------------------------------] 28.0% 105.3/376.1MB downloaded[CV 4/5; 2/15] START clf__C=0.01, clf__max_iter=300.............................\n",
      "[CV 4/5; 2/15] END clf__C=0.01, clf__max_iter=300;, score=0.877 total time=   0.3s\n",
      "[CV 1/5; 5/15] START clf__C=0.1, clf__max_iter=300..............................\n",
      "[CV 1/5; 5/15] END clf__C=0.1, clf__max_iter=300;, score=0.894 total time=   0.5s\n",
      "[CV 3/5; 7/15] START clf__C=1, clf__max_iter=100................................\n",
      "[CV 3/5; 7/15] END .clf__C=1, clf__max_iter=100;, score=0.881 total time=   0.3s\n",
      "[CV 5/5; 9/15] START clf__C=1, clf__max_iter=500................................\n",
      "[CV 5/5; 9/15] END .clf__C=1, clf__max_iter=500;, score=0.897 total time=   1.0s\n",
      "[CV 2/5; 12/15] START clf__C=10, clf__max_iter=500..............................\n",
      "[CV 2/5; 12/15] END clf__C=10, clf__max_iter=500;, score=0.896 total time=   1.2s\n",
      "[CV 4/5; 14/15] START clf__C=30, clf__max_iter=300..............................\n",
      "[CV 4/5; 14/15] END clf__C=30, clf__max_iter=300;, score=0.886 total time=   1.2s\n",
      "[==============------------------------------------] 28.3% 106.3/376.1MB downloaded"
     ]
    },
    {
     "name": "stderr",
     "output_type": "stream",
     "text": [
      "/home/app/.local/lib/python3.8/site-packages/sklearn/linear_model/_logistic.py:444: ConvergenceWarning: lbfgs failed to converge (status=1):\n",
      "STOP: TOTAL NO. of ITERATIONS REACHED LIMIT.\n",
      "\n",
      "Increase the number of iterations (max_iter) or scale the data as shown in:\n",
      "    https://scikit-learn.org/stable/modules/preprocessing.html\n",
      "Please also refer to the documentation for alternative solver options:\n",
      "    https://scikit-learn.org/stable/modules/linear_model.html#logistic-regression\n",
      "  n_iter_i = _check_optimize_result(\n",
      "/home/app/.local/lib/python3.8/site-packages/sklearn/linear_model/_logistic.py:444: ConvergenceWarning: lbfgs failed to converge (status=1):\n",
      "STOP: TOTAL NO. of ITERATIONS REACHED LIMIT.\n",
      "\n",
      "Increase the number of iterations (max_iter) or scale the data as shown in:\n",
      "    https://scikit-learn.org/stable/modules/preprocessing.html\n",
      "Please also refer to the documentation for alternative solver options:\n",
      "    https://scikit-learn.org/stable/modules/linear_model.html#logistic-regression\n",
      "  n_iter_i = _check_optimize_result(\n"
     ]
    },
    {
     "name": "stdout",
     "output_type": "stream",
     "text": [
      "[==============------------------------------------] 28.9% 108.6/376.1MB downloaded[CV 5/5; 2/15] START clf__C=0.01, clf__max_iter=300.............................\n",
      "[CV 5/5; 2/15] END clf__C=0.01, clf__max_iter=300;, score=0.888 total time=   0.3s\n",
      "[CV 2/5; 5/15] START clf__C=0.1, clf__max_iter=300..............................\n",
      "[CV 2/5; 5/15] END clf__C=0.1, clf__max_iter=300;, score=0.895 total time=   0.5s\n",
      "[CV 4/5; 7/15] START clf__C=1, clf__max_iter=100................................\n",
      "[CV 4/5; 7/15] END .clf__C=1, clf__max_iter=100;, score=0.886 total time=   0.3s\n",
      "[CV 1/5; 10/15] START clf__C=10, clf__max_iter=100..............................\n",
      "[CV 1/5; 10/15] END clf__C=10, clf__max_iter=100;, score=0.896 total time=   0.5s\n",
      "[CV 3/5; 12/15] START clf__C=10, clf__max_iter=500..............................\n",
      "[CV 3/5; 12/15] END clf__C=10, clf__max_iter=500;, score=0.881 total time=   1.3s\n",
      "[CV 5/5; 14/15] START clf__C=30, clf__max_iter=300..............................\n",
      "[CV 5/5; 14/15] END clf__C=30, clf__max_iter=300;, score=0.897 total time=   1.2s\n",
      "[==============------------------------------------] 29.2% 109.9/376.1MB downloaded"
     ]
    },
    {
     "name": "stderr",
     "output_type": "stream",
     "text": [
      "/home/app/.local/lib/python3.8/site-packages/sklearn/linear_model/_logistic.py:444: ConvergenceWarning: lbfgs failed to converge (status=1):\n",
      "STOP: TOTAL NO. of ITERATIONS REACHED LIMIT.\n",
      "\n",
      "Increase the number of iterations (max_iter) or scale the data as shown in:\n",
      "    https://scikit-learn.org/stable/modules/preprocessing.html\n",
      "Please also refer to the documentation for alternative solver options:\n",
      "    https://scikit-learn.org/stable/modules/linear_model.html#logistic-regression\n",
      "  n_iter_i = _check_optimize_result(\n",
      "/home/app/.local/lib/python3.8/site-packages/sklearn/linear_model/_logistic.py:444: ConvergenceWarning: lbfgs failed to converge (status=1):\n",
      "STOP: TOTAL NO. of ITERATIONS REACHED LIMIT.\n",
      "\n",
      "Increase the number of iterations (max_iter) or scale the data as shown in:\n",
      "    https://scikit-learn.org/stable/modules/preprocessing.html\n",
      "Please also refer to the documentation for alternative solver options:\n",
      "    https://scikit-learn.org/stable/modules/linear_model.html#logistic-regression\n",
      "  n_iter_i = _check_optimize_result(\n"
     ]
    },
    {
     "name": "stdout",
     "output_type": "stream",
     "text": [
      "[===============-----------------------------------] 30.4% 114.2/376.1MB downloaded[CV 1/5; 3/15] START clf__C=0.01, clf__max_iter=500.............................\n",
      "[CV 1/5; 3/15] END clf__C=0.01, clf__max_iter=500;, score=0.886 total time=   0.3s\n",
      "[CV 3/5; 5/15] START clf__C=0.1, clf__max_iter=300..............................\n",
      "[CV 3/5; 5/15] END clf__C=0.1, clf__max_iter=300;, score=0.879 total time=   0.5s\n",
      "[CV 5/5; 7/15] START clf__C=1, clf__max_iter=100................................\n",
      "[CV 5/5; 7/15] END .clf__C=1, clf__max_iter=100;, score=0.897 total time=   0.3s\n",
      "[CV 2/5; 10/15] START clf__C=10, clf__max_iter=100..............................\n",
      "[CV 2/5; 10/15] END clf__C=10, clf__max_iter=100;, score=0.896 total time=   0.3s\n",
      "[CV 4/5; 12/15] START clf__C=10, clf__max_iter=500..............................\n",
      "[CV 4/5; 12/15] END clf__C=10, clf__max_iter=500;, score=0.886 total time=   1.1s\n",
      "[CV 1/5; 15/15] START clf__C=30, clf__max_iter=500..............................\n",
      "[CV 1/5; 15/15] END clf__C=30, clf__max_iter=500;, score=0.896 total time=   1.5s\n",
      "[===============-----------------------------------] 30.7% 115.5/376.1MB downloaded"
     ]
    },
    {
     "name": "stderr",
     "output_type": "stream",
     "text": [
      "/home/app/.local/lib/python3.8/site-packages/sklearn/linear_model/_logistic.py:444: ConvergenceWarning: lbfgs failed to converge (status=1):\n",
      "STOP: TOTAL NO. of ITERATIONS REACHED LIMIT.\n",
      "\n",
      "Increase the number of iterations (max_iter) or scale the data as shown in:\n",
      "    https://scikit-learn.org/stable/modules/preprocessing.html\n",
      "Please also refer to the documentation for alternative solver options:\n",
      "    https://scikit-learn.org/stable/modules/linear_model.html#logistic-regression\n",
      "  n_iter_i = _check_optimize_result(\n",
      "/home/app/.local/lib/python3.8/site-packages/sklearn/linear_model/_logistic.py:444: ConvergenceWarning: lbfgs failed to converge (status=1):\n",
      "STOP: TOTAL NO. of ITERATIONS REACHED LIMIT.\n",
      "\n",
      "Increase the number of iterations (max_iter) or scale the data as shown in:\n",
      "    https://scikit-learn.org/stable/modules/preprocessing.html\n",
      "Please also refer to the documentation for alternative solver options:\n",
      "    https://scikit-learn.org/stable/modules/linear_model.html#logistic-regression\n",
      "  n_iter_i = _check_optimize_result(\n"
     ]
    },
    {
     "name": "stdout",
     "output_type": "stream",
     "text": [
      "[===============-----------------------------------] 31.1% 117.0/376.1MB downloaded[CV 1/5; 1/15] START clf__C=0.01, clf__max_iter=100.............................\n",
      "[CV 1/5; 1/15] END clf__C=0.01, clf__max_iter=100;, score=0.886 total time=   0.3s\n",
      "[CV 3/5; 3/15] START clf__C=0.01, clf__max_iter=500.............................\n",
      "[CV 3/5; 3/15] END clf__C=0.01, clf__max_iter=500;, score=0.874 total time=   0.3s\n",
      "[CV 5/5; 5/15] START clf__C=0.1, clf__max_iter=300..............................\n",
      "[CV 5/5; 5/15] END clf__C=0.1, clf__max_iter=300;, score=0.896 total time=   0.5s\n",
      "[CV 2/5; 8/15] START clf__C=1, clf__max_iter=300................................\n",
      "[CV 2/5; 8/15] END .clf__C=1, clf__max_iter=300;, score=0.896 total time=   1.1s\n",
      "[CV 4/5; 10/15] START clf__C=10, clf__max_iter=100..............................\n",
      "[CV 4/5; 10/15] END clf__C=10, clf__max_iter=100;, score=0.886 total time=   0.3s\n",
      "[CV 1/5; 13/15] START clf__C=30, clf__max_iter=100..............................\n",
      "[CV 1/5; 13/15] END clf__C=30, clf__max_iter=100;, score=0.896 total time=   0.4s\n",
      "[CV 2/5; 15/15] START clf__C=30, clf__max_iter=500..............................\n",
      "[CV 2/5; 15/15] END clf__C=30, clf__max_iter=500;, score=0.896 total time=   1.3s\n",
      "[===============-----------------------------------] 31.4% 118.0/376.1MB downloaded"
     ]
    },
    {
     "name": "stderr",
     "output_type": "stream",
     "text": [
      "/home/app/.local/lib/python3.8/site-packages/sklearn/linear_model/_logistic.py:444: ConvergenceWarning: lbfgs failed to converge (status=1):\n",
      "STOP: TOTAL NO. of ITERATIONS REACHED LIMIT.\n",
      "\n",
      "Increase the number of iterations (max_iter) or scale the data as shown in:\n",
      "    https://scikit-learn.org/stable/modules/preprocessing.html\n",
      "Please also refer to the documentation for alternative solver options:\n",
      "    https://scikit-learn.org/stable/modules/linear_model.html#logistic-regression\n",
      "  n_iter_i = _check_optimize_result(\n",
      "/home/app/.local/lib/python3.8/site-packages/sklearn/linear_model/_logistic.py:444: ConvergenceWarning: lbfgs failed to converge (status=1):\n",
      "STOP: TOTAL NO. of ITERATIONS REACHED LIMIT.\n",
      "\n",
      "Increase the number of iterations (max_iter) or scale the data as shown in:\n",
      "    https://scikit-learn.org/stable/modules/preprocessing.html\n",
      "Please also refer to the documentation for alternative solver options:\n",
      "    https://scikit-learn.org/stable/modules/linear_model.html#logistic-regression\n",
      "  n_iter_i = _check_optimize_result(\n",
      "/home/app/.local/lib/python3.8/site-packages/sklearn/linear_model/_logistic.py:444: ConvergenceWarning: lbfgs failed to converge (status=1):\n",
      "STOP: TOTAL NO. of ITERATIONS REACHED LIMIT.\n",
      "\n",
      "Increase the number of iterations (max_iter) or scale the data as shown in:\n",
      "    https://scikit-learn.org/stable/modules/preprocessing.html\n",
      "Please also refer to the documentation for alternative solver options:\n",
      "    https://scikit-learn.org/stable/modules/linear_model.html#logistic-regression\n",
      "  n_iter_i = _check_optimize_result(\n"
     ]
    },
    {
     "name": "stdout",
     "output_type": "stream",
     "text": [
      "[===============-----------------------------------] 32.0% 120.3/376.1MB downloaded[CV 2/5; 3/15] START clf__C=0.01, clf__max_iter=500.............................\n",
      "[CV 2/5; 3/15] END clf__C=0.01, clf__max_iter=500;, score=0.889 total time=   0.2s\n",
      "[CV 4/5; 5/15] START clf__C=0.1, clf__max_iter=300..............................\n",
      "[CV 4/5; 5/15] END clf__C=0.1, clf__max_iter=300;, score=0.885 total time=   0.5s\n",
      "[CV 1/5; 8/15] START clf__C=1, clf__max_iter=300................................\n",
      "[CV 1/5; 8/15] END .clf__C=1, clf__max_iter=300;, score=0.896 total time=   0.9s\n",
      "[CV 3/5; 10/15] START clf__C=10, clf__max_iter=100..............................\n",
      "[CV 3/5; 10/15] END clf__C=10, clf__max_iter=100;, score=0.881 total time=   0.3s\n",
      "[CV 5/5; 12/15] START clf__C=10, clf__max_iter=500..............................\n",
      "[CV 5/5; 12/15] END clf__C=10, clf__max_iter=500;, score=0.897 total time=   1.2s\n",
      "[CV 3/5; 15/15] START clf__C=30, clf__max_iter=500..............................\n",
      "[CV 3/5; 15/15] END clf__C=30, clf__max_iter=500;, score=0.881 total time=   1.3s\n",
      "[================----------------------------------] 32.3% 121.4/376.1MB downloaded"
     ]
    },
    {
     "name": "stderr",
     "output_type": "stream",
     "text": [
      "/home/app/.local/lib/python3.8/site-packages/sklearn/linear_model/_logistic.py:444: ConvergenceWarning: lbfgs failed to converge (status=1):\n",
      "STOP: TOTAL NO. of ITERATIONS REACHED LIMIT.\n",
      "\n",
      "Increase the number of iterations (max_iter) or scale the data as shown in:\n",
      "    https://scikit-learn.org/stable/modules/preprocessing.html\n",
      "Please also refer to the documentation for alternative solver options:\n",
      "    https://scikit-learn.org/stable/modules/linear_model.html#logistic-regression\n",
      "  n_iter_i = _check_optimize_result(\n"
     ]
    },
    {
     "name": "stdout",
     "output_type": "stream",
     "text": [
      "[================----------------------------------] 32.7% 123.1/376.1MB downloaded[CV 2/5; 1/15] START clf__C=0.01, clf__max_iter=100.............................\n",
      "[CV 2/5; 1/15] END clf__C=0.01, clf__max_iter=100;, score=0.889 total time=   0.3s\n",
      "[CV 4/5; 3/15] START clf__C=0.01, clf__max_iter=500.............................\n",
      "[CV 4/5; 3/15] END clf__C=0.01, clf__max_iter=500;, score=0.877 total time=   0.2s\n",
      "[CV 1/5; 6/15] START clf__C=0.1, clf__max_iter=500..............................\n",
      "[CV 1/5; 6/15] END clf__C=0.1, clf__max_iter=500;, score=0.894 total time=   0.4s\n",
      "[CV 3/5; 8/15] START clf__C=1, clf__max_iter=300................................\n",
      "[CV 3/5; 8/15] END .clf__C=1, clf__max_iter=300;, score=0.881 total time=   1.0s\n",
      "[CV 5/5; 10/15] START clf__C=10, clf__max_iter=100..............................\n",
      "[CV 5/5; 10/15] END clf__C=10, clf__max_iter=100;, score=0.897 total time=   0.3s\n",
      "[CV 2/5; 13/15] START clf__C=30, clf__max_iter=100..............................\n",
      "[CV 2/5; 13/15] END clf__C=30, clf__max_iter=100;, score=0.895 total time=   0.4s\n",
      "[CV 4/5; 15/15] START clf__C=30, clf__max_iter=500..............................\n",
      "[CV 4/5; 15/15] END clf__C=30, clf__max_iter=500;, score=0.886 total time=   1.2s\n",
      "[================----------------------------------] 33.1% 124.4/376.1MB downloaded"
     ]
    },
    {
     "name": "stderr",
     "output_type": "stream",
     "text": [
      "/home/app/.local/lib/python3.8/site-packages/sklearn/linear_model/_logistic.py:444: ConvergenceWarning: lbfgs failed to converge (status=1):\n",
      "STOP: TOTAL NO. of ITERATIONS REACHED LIMIT.\n",
      "\n",
      "Increase the number of iterations (max_iter) or scale the data as shown in:\n",
      "    https://scikit-learn.org/stable/modules/preprocessing.html\n",
      "Please also refer to the documentation for alternative solver options:\n",
      "    https://scikit-learn.org/stable/modules/linear_model.html#logistic-regression\n",
      "  n_iter_i = _check_optimize_result(\n",
      "/home/app/.local/lib/python3.8/site-packages/sklearn/linear_model/_logistic.py:444: ConvergenceWarning: lbfgs failed to converge (status=1):\n",
      "STOP: TOTAL NO. of ITERATIONS REACHED LIMIT.\n",
      "\n",
      "Increase the number of iterations (max_iter) or scale the data as shown in:\n",
      "    https://scikit-learn.org/stable/modules/preprocessing.html\n",
      "Please also refer to the documentation for alternative solver options:\n",
      "    https://scikit-learn.org/stable/modules/linear_model.html#logistic-regression\n",
      "  n_iter_i = _check_optimize_result(\n"
     ]
    },
    {
     "name": "stdout",
     "output_type": "stream",
     "text": [
      "[================----------------------------------] 33.3% 125.2/376.1MB downloaded[CV 3/5; 1/15] START clf__C=0.01, clf__max_iter=100.............................\n",
      "[CV 3/5; 1/15] END clf__C=0.01, clf__max_iter=100;, score=0.874 total time=   0.2s\n",
      "[CV 5/5; 3/15] START clf__C=0.01, clf__max_iter=500.............................\n",
      "[CV 5/5; 3/15] END clf__C=0.01, clf__max_iter=500;, score=0.888 total time=   0.2s\n",
      "[CV 2/5; 6/15] START clf__C=0.1, clf__max_iter=500..............................\n",
      "[CV 2/5; 6/15] END clf__C=0.1, clf__max_iter=500;, score=0.895 total time=   0.5s\n",
      "[CV 4/5; 8/15] START clf__C=1, clf__max_iter=300................................\n",
      "[CV 4/5; 8/15] END .clf__C=1, clf__max_iter=300;, score=0.886 total time=   1.1s\n",
      "[CV 1/5; 11/15] START clf__C=10, clf__max_iter=300..............................\n",
      "[CV 1/5; 11/15] END clf__C=10, clf__max_iter=300;, score=0.896 total time=   0.9s\n",
      "[CV 3/5; 13/15] START clf__C=30, clf__max_iter=100..............................\n",
      "[CV 3/5; 13/15] END clf__C=30, clf__max_iter=100;, score=0.881 total time=   0.3s\n",
      "[================----------------------------------] 33.3% 125.2/376.1MB downloaded clf__C=30, clf__max_iter=500..............................\n",
      "[CV 5/5; 15/15] END clf__C=30, clf__max_iter=500;, score=0.897 total time=   0.9s\n",
      "[================----------------------------------] 33.6% 126.5/376.1MB downloaded"
     ]
    },
    {
     "name": "stderr",
     "output_type": "stream",
     "text": [
      "/home/app/.local/lib/python3.8/site-packages/sklearn/linear_model/_logistic.py:444: ConvergenceWarning: lbfgs failed to converge (status=1):\n",
      "STOP: TOTAL NO. of ITERATIONS REACHED LIMIT.\n",
      "\n",
      "Increase the number of iterations (max_iter) or scale the data as shown in:\n",
      "    https://scikit-learn.org/stable/modules/preprocessing.html\n",
      "Please also refer to the documentation for alternative solver options:\n",
      "    https://scikit-learn.org/stable/modules/linear_model.html#logistic-regression\n",
      "  n_iter_i = _check_optimize_result(\n",
      "/home/app/.local/lib/python3.8/site-packages/sklearn/linear_model/_logistic.py:444: ConvergenceWarning: lbfgs failed to converge (status=1):\n",
      "STOP: TOTAL NO. of ITERATIONS REACHED LIMIT.\n",
      "\n",
      "Increase the number of iterations (max_iter) or scale the data as shown in:\n",
      "    https://scikit-learn.org/stable/modules/preprocessing.html\n",
      "Please also refer to the documentation for alternative solver options:\n",
      "    https://scikit-learn.org/stable/modules/linear_model.html#logistic-regression\n",
      "  n_iter_i = _check_optimize_result(\n"
     ]
    },
    {
     "name": "stdout",
     "output_type": "stream",
     "text": [
      "[==================================================] 100.0% 376.1/376.1MB downloaded\n"
     ]
    }
   ],
   "source": [
    "# A nltk model pretrained in Wikipedia will be used\n",
    "import gensim.downloader as api\n",
    "model_pre = api.load(\"glove-wiki-gigaword-300\")"
   ]
  },
  {
   "cell_type": "code",
   "execution_count": 46,
   "metadata": {},
   "outputs": [],
   "source": [
    "# Generation of training and test data vectorized by pretrained model\n",
    "\n",
    "def sent2vec(word_tokens, model):\n",
    "\n",
    "    all_vectors = []\n",
    "    for word in word_tokens:\n",
    "        try:\n",
    "            word_vec = model[word]\n",
    "            all_vectors.append(word_vec)\n",
    "        except:\n",
    "            pass\n",
    "\n",
    "    if len(all_vectors) == 0:\n",
    "        final_vector = np.zeros(300,)\n",
    "    else:\n",
    "        final_vector = np.mean(all_vectors, axis=0)\n",
    "\n",
    "    return final_vector\n",
    "\n",
    "\n",
    "X_train_pre = []\n",
    "for train_sent in X_train_tok:\n",
    "    X_train_pre.append(sent2vec(train_sent, model=model_pre))\n",
    "X_train_pre = np.asarray(X_train_pre)\n",
    "\n",
    "X_test_pre = []\n",
    "for test_sent in X_test_tok:\n",
    "    X_test_pre.append(sent2vec(test_sent, model=model_pre))\n",
    "X_test_pre = np.asarray(X_test_pre)"
   ]
  },
  {
   "cell_type": "code",
   "execution_count": 47,
   "metadata": {},
   "outputs": [
    {
     "name": "stdout",
     "output_type": "stream",
     "text": [
      "Fitting 5 folds for each of 15 candidates, totalling 75 fits\n"
     ]
    },
    {
     "name": "stderr",
     "output_type": "stream",
     "text": [
      "/home/app/.local/lib/python3.8/site-packages/sklearn/linear_model/_logistic.py:444: ConvergenceWarning: lbfgs failed to converge (status=1):\n",
      "STOP: TOTAL NO. of ITERATIONS REACHED LIMIT.\n",
      "\n",
      "Increase the number of iterations (max_iter) or scale the data as shown in:\n",
      "    https://scikit-learn.org/stable/modules/preprocessing.html\n",
      "Please also refer to the documentation for alternative solver options:\n",
      "    https://scikit-learn.org/stable/modules/linear_model.html#logistic-regression\n",
      "  n_iter_i = _check_optimize_result(\n"
     ]
    },
    {
     "data": {
      "text/html": [
       "<style>#sk-container-id-1 {color: black;background-color: white;}#sk-container-id-1 pre{padding: 0;}#sk-container-id-1 div.sk-toggleable {background-color: white;}#sk-container-id-1 label.sk-toggleable__label {cursor: pointer;display: block;width: 100%;margin-bottom: 0;padding: 0.3em;box-sizing: border-box;text-align: center;}#sk-container-id-1 label.sk-toggleable__label-arrow:before {content: \"▸\";float: left;margin-right: 0.25em;color: #696969;}#sk-container-id-1 label.sk-toggleable__label-arrow:hover:before {color: black;}#sk-container-id-1 div.sk-estimator:hover label.sk-toggleable__label-arrow:before {color: black;}#sk-container-id-1 div.sk-toggleable__content {max-height: 0;max-width: 0;overflow: hidden;text-align: left;background-color: #f0f8ff;}#sk-container-id-1 div.sk-toggleable__content pre {margin: 0.2em;color: black;border-radius: 0.25em;background-color: #f0f8ff;}#sk-container-id-1 input.sk-toggleable__control:checked~div.sk-toggleable__content {max-height: 200px;max-width: 100%;overflow: auto;}#sk-container-id-1 input.sk-toggleable__control:checked~label.sk-toggleable__label-arrow:before {content: \"▾\";}#sk-container-id-1 div.sk-estimator input.sk-toggleable__control:checked~label.sk-toggleable__label {background-color: #d4ebff;}#sk-container-id-1 div.sk-label input.sk-toggleable__control:checked~label.sk-toggleable__label {background-color: #d4ebff;}#sk-container-id-1 input.sk-hidden--visually {border: 0;clip: rect(1px 1px 1px 1px);clip: rect(1px, 1px, 1px, 1px);height: 1px;margin: -1px;overflow: hidden;padding: 0;position: absolute;width: 1px;}#sk-container-id-1 div.sk-estimator {font-family: monospace;background-color: #f0f8ff;border: 1px dotted black;border-radius: 0.25em;box-sizing: border-box;margin-bottom: 0.5em;}#sk-container-id-1 div.sk-estimator:hover {background-color: #d4ebff;}#sk-container-id-1 div.sk-parallel-item::after {content: \"\";width: 100%;border-bottom: 1px solid gray;flex-grow: 1;}#sk-container-id-1 div.sk-label:hover label.sk-toggleable__label {background-color: #d4ebff;}#sk-container-id-1 div.sk-serial::before {content: \"\";position: absolute;border-left: 1px solid gray;box-sizing: border-box;top: 0;bottom: 0;left: 50%;z-index: 0;}#sk-container-id-1 div.sk-serial {display: flex;flex-direction: column;align-items: center;background-color: white;padding-right: 0.2em;padding-left: 0.2em;position: relative;}#sk-container-id-1 div.sk-item {position: relative;z-index: 1;}#sk-container-id-1 div.sk-parallel {display: flex;align-items: stretch;justify-content: center;background-color: white;position: relative;}#sk-container-id-1 div.sk-item::before, #sk-container-id-1 div.sk-parallel-item::before {content: \"\";position: absolute;border-left: 1px solid gray;box-sizing: border-box;top: 0;bottom: 0;left: 50%;z-index: -1;}#sk-container-id-1 div.sk-parallel-item {display: flex;flex-direction: column;z-index: 1;position: relative;background-color: white;}#sk-container-id-1 div.sk-parallel-item:first-child::after {align-self: flex-end;width: 50%;}#sk-container-id-1 div.sk-parallel-item:last-child::after {align-self: flex-start;width: 50%;}#sk-container-id-1 div.sk-parallel-item:only-child::after {width: 0;}#sk-container-id-1 div.sk-dashed-wrapped {border: 1px dashed gray;margin: 0 0.4em 0.5em 0.4em;box-sizing: border-box;padding-bottom: 0.4em;background-color: white;}#sk-container-id-1 div.sk-label label {font-family: monospace;font-weight: bold;display: inline-block;line-height: 1.2em;}#sk-container-id-1 div.sk-label-container {text-align: center;}#sk-container-id-1 div.sk-container {/* jupyter's `normalize.less` sets `[hidden] { display: none; }` but bootstrap.min.css set `[hidden] { display: none !important; }` so we also need the `!important` here to be able to override the default hidden behavior on the sphinx rendered scikit-learn.org. See: https://github.com/scikit-learn/scikit-learn/issues/21755 */display: inline-block !important;position: relative;}#sk-container-id-1 div.sk-text-repr-fallback {display: none;}</style><div id=\"sk-container-id-1\" class=\"sk-top-container\"><div class=\"sk-text-repr-fallback\"><pre>GridSearchCV(cv=5, estimator=Pipeline(steps=[(&#x27;clf&#x27;, LogisticRegression())]),\n",
       "             n_jobs=-1,\n",
       "             param_grid=[{&#x27;clf__C&#x27;: [0.01, 0.1, 1, 10, 30],\n",
       "                          &#x27;clf__max_iter&#x27;: [100, 300, 500]}],\n",
       "             scoring=&#x27;roc_auc&#x27;, verbose=10)</pre><b>In a Jupyter environment, please rerun this cell to show the HTML representation or trust the notebook. <br />On GitHub, the HTML representation is unable to render, please try loading this page with nbviewer.org.</b></div><div class=\"sk-container\" hidden><div class=\"sk-item sk-dashed-wrapped\"><div class=\"sk-label-container\"><div class=\"sk-label sk-toggleable\"><input class=\"sk-toggleable__control sk-hidden--visually\" id=\"sk-estimator-id-1\" type=\"checkbox\" ><label for=\"sk-estimator-id-1\" class=\"sk-toggleable__label sk-toggleable__label-arrow\">GridSearchCV</label><div class=\"sk-toggleable__content\"><pre>GridSearchCV(cv=5, estimator=Pipeline(steps=[(&#x27;clf&#x27;, LogisticRegression())]),\n",
       "             n_jobs=-1,\n",
       "             param_grid=[{&#x27;clf__C&#x27;: [0.01, 0.1, 1, 10, 30],\n",
       "                          &#x27;clf__max_iter&#x27;: [100, 300, 500]}],\n",
       "             scoring=&#x27;roc_auc&#x27;, verbose=10)</pre></div></div></div><div class=\"sk-parallel\"><div class=\"sk-parallel-item\"><div class=\"sk-item\"><div class=\"sk-label-container\"><div class=\"sk-label sk-toggleable\"><input class=\"sk-toggleable__control sk-hidden--visually\" id=\"sk-estimator-id-2\" type=\"checkbox\" ><label for=\"sk-estimator-id-2\" class=\"sk-toggleable__label sk-toggleable__label-arrow\">estimator: Pipeline</label><div class=\"sk-toggleable__content\"><pre>Pipeline(steps=[(&#x27;clf&#x27;, LogisticRegression())])</pre></div></div></div><div class=\"sk-serial\"><div class=\"sk-item\"><div class=\"sk-serial\"><div class=\"sk-item\"><div class=\"sk-estimator sk-toggleable\"><input class=\"sk-toggleable__control sk-hidden--visually\" id=\"sk-estimator-id-3\" type=\"checkbox\" ><label for=\"sk-estimator-id-3\" class=\"sk-toggleable__label sk-toggleable__label-arrow\">LogisticRegression</label><div class=\"sk-toggleable__content\"><pre>LogisticRegression()</pre></div></div></div></div></div></div></div></div></div></div></div></div>"
      ],
      "text/plain": [
       "GridSearchCV(cv=5, estimator=Pipeline(steps=[('clf', LogisticRegression())]),\n",
       "             n_jobs=-1,\n",
       "             param_grid=[{'clf__C': [0.01, 0.1, 1, 10, 30],\n",
       "                          'clf__max_iter': [100, 300, 500]}],\n",
       "             scoring='roc_auc', verbose=10)"
      ]
     },
     "execution_count": 47,
     "metadata": {},
     "output_type": "execute_result"
    }
   ],
   "source": [
    "# Training of logistic regressor\n",
    "lr_clf2.fit(X_train_pre, y_train)"
   ]
  },
  {
   "cell_type": "code",
   "execution_count": 48,
   "metadata": {},
   "outputs": [],
   "source": [
    "predictions_lr_pre = lr_clf2.predict(X_test_pre)"
   ]
  },
  {
   "cell_type": "code",
   "execution_count": 49,
   "metadata": {},
   "outputs": [
    {
     "name": "stdout",
     "output_type": "stream",
     "text": [
      "Model Performance metrics:\n",
      "------------------------------\n",
      "Accuracy: 0.79632\n",
      "Precision: 0.7970328789093826\n",
      "Recall: 0.79512\n",
      "F1 Score: 0.7960752903484181\n",
      "\n",
      "Model Classification report:\n",
      "------------------------------\n",
      "              precision    recall  f1-score   support\n",
      "\n",
      "           0       0.80      0.80      0.80     12500\n",
      "           1       0.80      0.80      0.80     12500\n",
      "\n",
      "    accuracy                           0.80     25000\n",
      "   macro avg       0.80      0.80      0.80     25000\n",
      "weighted avg       0.80      0.80      0.80     25000\n",
      "\n",
      "\n",
      "Prediction Confusion Matrix:\n",
      "------------------------------\n",
      "      0     1\n",
      "0  9939  2561\n",
      "1  2531  9969\n"
     ]
    },
    {
     "data": {
      "text/plain": [
       "(0.79632, 0.7970328789093826, 0.79512, 0.7960752903484181)"
      ]
     },
     "execution_count": 49,
     "metadata": {},
     "output_type": "execute_result"
    },
    {
     "name": "stdout",
     "output_type": "stream",
     "text": [
      "[CV 2/5; 1/15] START clf__C=0.01, clf__max_iter=100.............................\n",
      "[CV 2/5; 1/15] END clf__C=0.01, clf__max_iter=100;, score=0.843 total time=   2.3s\n",
      "[CV 1/5; 4/15] START clf__C=0.1, clf__max_iter=100..............................\n",
      "[CV 1/5; 4/15] END clf__C=0.1, clf__max_iter=100;, score=0.868 total time=   4.2s\n",
      "[CV 3/5; 6/15] START clf__C=0.1, clf__max_iter=500..............................\n",
      "[CV 3/5; 6/15] END clf__C=0.1, clf__max_iter=500;, score=0.863 total time=   3.7s\n",
      "[CV 4/5; 8/15] START clf__C=1, clf__max_iter=300................................\n",
      "[CV 4/5; 8/15] END .clf__C=1, clf__max_iter=300;, score=0.865 total time= 1.7min\n",
      "[CV 5/5; 11/15] START clf__C=10, clf__max_iter=300..............................\n",
      "[CV 5/5; 11/15] END clf__C=10, clf__max_iter=300;, score=0.869 total time=  42.0s\n",
      "[CV 2/5; 15/15] START clf__C=30, clf__max_iter=500..............................\n",
      "[CV 2/5; 15/15] END clf__C=30, clf__max_iter=500;, score=0.875 total time= 1.1min\n"
     ]
    },
    {
     "name": "stderr",
     "output_type": "stream",
     "text": [
      "/home/app/.local/lib/python3.8/site-packages/sklearn/linear_model/_logistic.py:444: ConvergenceWarning: lbfgs failed to converge (status=1):\n",
      "STOP: TOTAL NO. of ITERATIONS REACHED LIMIT.\n",
      "\n",
      "Increase the number of iterations (max_iter) or scale the data as shown in:\n",
      "    https://scikit-learn.org/stable/modules/preprocessing.html\n",
      "Please also refer to the documentation for alternative solver options:\n",
      "    https://scikit-learn.org/stable/modules/linear_model.html#logistic-regression\n",
      "  n_iter_i = _check_optimize_result(\n",
      "/home/app/.local/lib/python3.8/site-packages/sklearn/linear_model/_logistic.py:444: ConvergenceWarning: lbfgs failed to converge (status=1):\n",
      "STOP: TOTAL NO. of ITERATIONS REACHED LIMIT.\n",
      "\n",
      "Increase the number of iterations (max_iter) or scale the data as shown in:\n",
      "    https://scikit-learn.org/stable/modules/preprocessing.html\n",
      "Please also refer to the documentation for alternative solver options:\n",
      "    https://scikit-learn.org/stable/modules/linear_model.html#logistic-regression\n",
      "  n_iter_i = _check_optimize_result(\n"
     ]
    },
    {
     "name": "stdout",
     "output_type": "stream",
     "text": [
      "[CV 5/5; 1/15] START clf__C=0.01, clf__max_iter=100.............................\n",
      "[CV 5/5; 1/15] END clf__C=0.01, clf__max_iter=100;, score=0.819 total time=   2.0s\n",
      "[CV 4/5; 3/15] START clf__C=0.01, clf__max_iter=500.............................\n",
      "[CV 4/5; 3/15] END clf__C=0.01, clf__max_iter=500;, score=0.819 total time=   2.5s\n",
      "[CV 2/5; 6/15] START clf__C=0.1, clf__max_iter=500..............................\n",
      "[CV 2/5; 6/15] END clf__C=0.1, clf__max_iter=500;, score=0.873 total time=   4.5s\n",
      "[CV 2/5; 8/15] START clf__C=1, clf__max_iter=300................................\n",
      "[CV 2/5; 8/15] END .clf__C=1, clf__max_iter=300;, score=0.876 total time= 1.6min\n",
      "[CV 4/5; 11/15] START clf__C=10, clf__max_iter=300..............................\n",
      "[CV 4/5; 11/15] END clf__C=10, clf__max_iter=300;, score=0.865 total time=  32.4s\n",
      "[CV 1/5; 14/15] START clf__C=30, clf__max_iter=300..............................\n",
      "[CV 1/5; 14/15] END clf__C=30, clf__max_iter=300;, score=0.876 total time= 1.5min\n"
     ]
    },
    {
     "name": "stderr",
     "output_type": "stream",
     "text": [
      "/home/app/.local/lib/python3.8/site-packages/sklearn/linear_model/_logistic.py:444: ConvergenceWarning: lbfgs failed to converge (status=1):\n",
      "STOP: TOTAL NO. of ITERATIONS REACHED LIMIT.\n",
      "\n",
      "Increase the number of iterations (max_iter) or scale the data as shown in:\n",
      "    https://scikit-learn.org/stable/modules/preprocessing.html\n",
      "Please also refer to the documentation for alternative solver options:\n",
      "    https://scikit-learn.org/stable/modules/linear_model.html#logistic-regression\n",
      "  n_iter_i = _check_optimize_result(\n",
      "/home/app/.local/lib/python3.8/site-packages/sklearn/linear_model/_logistic.py:444: ConvergenceWarning: lbfgs failed to converge (status=1):\n",
      "STOP: TOTAL NO. of ITERATIONS REACHED LIMIT.\n",
      "\n",
      "Increase the number of iterations (max_iter) or scale the data as shown in:\n",
      "    https://scikit-learn.org/stable/modules/preprocessing.html\n",
      "Please also refer to the documentation for alternative solver options:\n",
      "    https://scikit-learn.org/stable/modules/linear_model.html#logistic-regression\n",
      "  n_iter_i = _check_optimize_result(\n"
     ]
    },
    {
     "name": "stdout",
     "output_type": "stream",
     "text": [
      "[CV 2/5; 3/15] START clf__C=0.01, clf__max_iter=500.............................\n",
      "[CV 2/5; 3/15] END clf__C=0.01, clf__max_iter=500;, score=0.843 total time=   2.6s\n",
      "[CV 3/5; 5/15] START clf__C=0.1, clf__max_iter=300..............................\n",
      "[CV 3/5; 5/15] END clf__C=0.1, clf__max_iter=300;, score=0.863 total time=   4.9s\n",
      "[CV 4/5; 7/15] START clf__C=1, clf__max_iter=100................................\n",
      "[CV 4/5; 7/15] END .clf__C=1, clf__max_iter=100;, score=0.865 total time= 1.1min\n",
      "[CV 3/5; 10/15] START clf__C=10, clf__max_iter=100..............................\n",
      "[CV 3/5; 10/15] END clf__C=10, clf__max_iter=100;, score=0.868 total time=  49.3s\n",
      "[CV 2/5; 12/15] START clf__C=10, clf__max_iter=500..............................\n",
      "[CV 2/5; 12/15] END clf__C=10, clf__max_iter=500;, score=0.876 total time=  19.2s\n",
      "[CV 5/5; 14/15] START clf__C=30, clf__max_iter=300..............................\n",
      "[CV 5/5; 14/15] END clf__C=30, clf__max_iter=300;, score=0.870 total time= 1.4min\n"
     ]
    },
    {
     "name": "stderr",
     "output_type": "stream",
     "text": [
      "/home/app/.local/lib/python3.8/site-packages/sklearn/linear_model/_logistic.py:444: ConvergenceWarning: lbfgs failed to converge (status=1):\n",
      "STOP: TOTAL NO. of ITERATIONS REACHED LIMIT.\n",
      "\n",
      "Increase the number of iterations (max_iter) or scale the data as shown in:\n",
      "    https://scikit-learn.org/stable/modules/preprocessing.html\n",
      "Please also refer to the documentation for alternative solver options:\n",
      "    https://scikit-learn.org/stable/modules/linear_model.html#logistic-regression\n",
      "  n_iter_i = _check_optimize_result(\n",
      "/home/app/.local/lib/python3.8/site-packages/sklearn/linear_model/_logistic.py:444: ConvergenceWarning: lbfgs failed to converge (status=1):\n",
      "STOP: TOTAL NO. of ITERATIONS REACHED LIMIT.\n",
      "\n",
      "Increase the number of iterations (max_iter) or scale the data as shown in:\n",
      "    https://scikit-learn.org/stable/modules/preprocessing.html\n",
      "Please also refer to the documentation for alternative solver options:\n",
      "    https://scikit-learn.org/stable/modules/linear_model.html#logistic-regression\n",
      "  n_iter_i = _check_optimize_result(\n",
      "/home/app/.local/lib/python3.8/site-packages/sklearn/linear_model/_logistic.py:444: ConvergenceWarning: lbfgs failed to converge (status=1):\n",
      "STOP: TOTAL NO. of ITERATIONS REACHED LIMIT.\n",
      "\n",
      "Increase the number of iterations (max_iter) or scale the data as shown in:\n",
      "    https://scikit-learn.org/stable/modules/preprocessing.html\n",
      "Please also refer to the documentation for alternative solver options:\n",
      "    https://scikit-learn.org/stable/modules/linear_model.html#logistic-regression\n",
      "  n_iter_i = _check_optimize_result(\n"
     ]
    },
    {
     "name": "stdout",
     "output_type": "stream",
     "text": [
      "[CV 4/5; 1/15] START clf__C=0.01, clf__max_iter=100.............................\n",
      "[CV 4/5; 1/15] END clf__C=0.01, clf__max_iter=100;, score=0.819 total time=   2.8s\n",
      "[CV 5/5; 4/15] START clf__C=0.1, clf__max_iter=100..............................\n",
      "[CV 5/5; 4/15] END clf__C=0.1, clf__max_iter=100;, score=0.858 total time=   3.9s\n",
      "[CV 4/5; 6/15] START clf__C=0.1, clf__max_iter=500..............................\n",
      "[CV 4/5; 6/15] END clf__C=0.1, clf__max_iter=500;, score=0.854 total time=  10.8s\n",
      "[CV 3/5; 9/15] START clf__C=1, clf__max_iter=500................................\n",
      "[CV 3/5; 9/15] END .clf__C=1, clf__max_iter=500;, score=0.869 total time= 1.8min\n",
      "[CV 2/5; 13/15] START clf__C=30, clf__max_iter=100..............................\n",
      "[CV 2/5; 13/15] END clf__C=30, clf__max_iter=100;, score=0.873 total time=  10.5s\n",
      "[CV 5/5; 13/15] START clf__C=30, clf__max_iter=100..............................\n",
      "[CV 5/5; 13/15] END clf__C=30, clf__max_iter=100;, score=0.869 total time= 1.6min\n"
     ]
    },
    {
     "name": "stderr",
     "output_type": "stream",
     "text": [
      "/home/app/.local/lib/python3.8/site-packages/sklearn/linear_model/_logistic.py:444: ConvergenceWarning: lbfgs failed to converge (status=1):\n",
      "STOP: TOTAL NO. of ITERATIONS REACHED LIMIT.\n",
      "\n",
      "Increase the number of iterations (max_iter) or scale the data as shown in:\n",
      "    https://scikit-learn.org/stable/modules/preprocessing.html\n",
      "Please also refer to the documentation for alternative solver options:\n",
      "    https://scikit-learn.org/stable/modules/linear_model.html#logistic-regression\n",
      "  n_iter_i = _check_optimize_result(\n",
      "/home/app/.local/lib/python3.8/site-packages/sklearn/linear_model/_logistic.py:444: ConvergenceWarning: lbfgs failed to converge (status=1):\n",
      "STOP: TOTAL NO. of ITERATIONS REACHED LIMIT.\n",
      "\n",
      "Increase the number of iterations (max_iter) or scale the data as shown in:\n",
      "    https://scikit-learn.org/stable/modules/preprocessing.html\n",
      "Please also refer to the documentation for alternative solver options:\n",
      "    https://scikit-learn.org/stable/modules/linear_model.html#logistic-regression\n",
      "  n_iter_i = _check_optimize_result(\n"
     ]
    },
    {
     "name": "stdout",
     "output_type": "stream",
     "text": [
      "[CV 2/5; 2/15] START clf__C=0.01, clf__max_iter=300.............................\n",
      "[CV 2/5; 2/15] END clf__C=0.01, clf__max_iter=300;, score=0.843 total time=   2.4s\n",
      "[CV 4/5; 4/15] START clf__C=0.1, clf__max_iter=100..............................\n",
      "[CV 4/5; 4/15] END clf__C=0.1, clf__max_iter=100;, score=0.854 total time=  31.4s\n",
      "[CV 5/5; 9/15] START clf__C=1, clf__max_iter=500................................\n",
      "[CV 5/5; 9/15] END .clf__C=1, clf__max_iter=500;, score=0.867 total time=  41.8s\n",
      "[CV 1/5; 11/15] START clf__C=10, clf__max_iter=300..............................\n",
      "[CV 1/5; 11/15] END clf__C=10, clf__max_iter=300;, score=0.876 total time=  58.3s\n",
      "[CV 4/5; 13/15] START clf__C=30, clf__max_iter=100..............................\n",
      "[CV 4/5; 13/15] END clf__C=30, clf__max_iter=100;, score=0.864 total time= 1.6min\n"
     ]
    },
    {
     "name": "stderr",
     "output_type": "stream",
     "text": [
      "/home/app/.local/lib/python3.8/site-packages/sklearn/linear_model/_logistic.py:444: ConvergenceWarning: lbfgs failed to converge (status=1):\n",
      "STOP: TOTAL NO. of ITERATIONS REACHED LIMIT.\n",
      "\n",
      "Increase the number of iterations (max_iter) or scale the data as shown in:\n",
      "    https://scikit-learn.org/stable/modules/preprocessing.html\n",
      "Please also refer to the documentation for alternative solver options:\n",
      "    https://scikit-learn.org/stable/modules/linear_model.html#logistic-regression\n",
      "  n_iter_i = _check_optimize_result(\n",
      "/home/app/.local/lib/python3.8/site-packages/sklearn/linear_model/_logistic.py:444: ConvergenceWarning: lbfgs failed to converge (status=1):\n",
      "STOP: TOTAL NO. of ITERATIONS REACHED LIMIT.\n",
      "\n",
      "Increase the number of iterations (max_iter) or scale the data as shown in:\n",
      "    https://scikit-learn.org/stable/modules/preprocessing.html\n",
      "Please also refer to the documentation for alternative solver options:\n",
      "    https://scikit-learn.org/stable/modules/linear_model.html#logistic-regression\n",
      "  n_iter_i = _check_optimize_result(\n"
     ]
    },
    {
     "name": "stdout",
     "output_type": "stream",
     "text": [
      "[CV 1/5; 1/15] START clf__C=0.01, clf__max_iter=100.............................\n",
      "[CV 1/5; 1/15] END clf__C=0.01, clf__max_iter=100;, score=0.833 total time=   2.0s\n",
      "[CV 3/5; 3/15] START clf__C=0.01, clf__max_iter=500.............................\n",
      "[CV 3/5; 3/15] END clf__C=0.01, clf__max_iter=500;, score=0.832 total time=   2.2s\n",
      "[CV 5/5; 5/15] START clf__C=0.1, clf__max_iter=300..............................\n",
      "[CV 5/5; 5/15] END clf__C=0.1, clf__max_iter=300;, score=0.858 total time=   3.5s\n",
      "[CV 3/5; 7/15] START clf__C=1, clf__max_iter=100................................\n",
      "[CV 3/5; 7/15] END .clf__C=1, clf__max_iter=100;, score=0.869 total time=   4.1s\n",
      "[CV 2/5; 9/15] START clf__C=1, clf__max_iter=500................................\n",
      "[CV 2/5; 9/15] END .clf__C=1, clf__max_iter=500;, score=0.876 total time= 1.3min\n",
      "[CV 3/5; 11/15] START clf__C=10, clf__max_iter=300..............................\n",
      "[CV 3/5; 11/15] END clf__C=10, clf__max_iter=300;, score=0.869 total time=  49.0s\n",
      "[CV 3/5; 14/15] START clf__C=30, clf__max_iter=300..............................\n",
      "[CV 3/5; 14/15] END clf__C=30, clf__max_iter=300;, score=0.869 total time= 1.7min\n"
     ]
    },
    {
     "name": "stderr",
     "output_type": "stream",
     "text": [
      "/home/app/.local/lib/python3.8/site-packages/sklearn/linear_model/_logistic.py:444: ConvergenceWarning: lbfgs failed to converge (status=1):\n",
      "STOP: TOTAL NO. of ITERATIONS REACHED LIMIT.\n",
      "\n",
      "Increase the number of iterations (max_iter) or scale the data as shown in:\n",
      "    https://scikit-learn.org/stable/modules/preprocessing.html\n",
      "Please also refer to the documentation for alternative solver options:\n",
      "    https://scikit-learn.org/stable/modules/linear_model.html#logistic-regression\n",
      "  n_iter_i = _check_optimize_result(\n",
      "/home/app/.local/lib/python3.8/site-packages/sklearn/linear_model/_logistic.py:444: ConvergenceWarning: lbfgs failed to converge (status=1):\n",
      "STOP: TOTAL NO. of ITERATIONS REACHED LIMIT.\n",
      "\n",
      "Increase the number of iterations (max_iter) or scale the data as shown in:\n",
      "    https://scikit-learn.org/stable/modules/preprocessing.html\n",
      "Please also refer to the documentation for alternative solver options:\n",
      "    https://scikit-learn.org/stable/modules/linear_model.html#logistic-regression\n",
      "  n_iter_i = _check_optimize_result(\n",
      "/home/app/.local/lib/python3.8/site-packages/sklearn/linear_model/_logistic.py:444: ConvergenceWarning: lbfgs failed to converge (status=1):\n",
      "STOP: TOTAL NO. of ITERATIONS REACHED LIMIT.\n",
      "\n",
      "Increase the number of iterations (max_iter) or scale the data as shown in:\n",
      "    https://scikit-learn.org/stable/modules/preprocessing.html\n",
      "Please also refer to the documentation for alternative solver options:\n",
      "    https://scikit-learn.org/stable/modules/linear_model.html#logistic-regression\n",
      "  n_iter_i = _check_optimize_result(\n"
     ]
    },
    {
     "name": "stdout",
     "output_type": "stream",
     "text": [
      "[CV 5/5; 2/15] START clf__C=0.01, clf__max_iter=300.............................\n",
      "[CV 5/5; 2/15] END clf__C=0.01, clf__max_iter=300;, score=0.819 total time=   2.1s\n",
      "[CV 2/5; 4/15] START clf__C=0.1, clf__max_iter=100..............................\n",
      "[CV 2/5; 4/15] END clf__C=0.1, clf__max_iter=100;, score=0.873 total time=   4.9s\n",
      "[CV 1/5; 7/15] START clf__C=1, clf__max_iter=100................................\n",
      "[CV 1/5; 7/15] END .clf__C=1, clf__max_iter=100;, score=0.875 total time=   4.1s\n",
      "[CV 1/5; 9/15] START clf__C=1, clf__max_iter=500................................\n",
      "[CV 1/5; 9/15] END .clf__C=1, clf__max_iter=500;, score=0.875 total time= 1.1min\n",
      "[CV 2/5; 10/15] START clf__C=10, clf__max_iter=100..............................\n",
      "[CV 2/5; 10/15] END clf__C=10, clf__max_iter=100;, score=0.874 total time=  49.6s\n",
      "[CV 1/5; 12/15] START clf__C=10, clf__max_iter=500..............................\n",
      "[CV 1/5; 12/15] END clf__C=10, clf__max_iter=500;, score=0.876 total time=  19.5s\n",
      "[CV 4/5; 14/15] START clf__C=30, clf__max_iter=300..............................\n",
      "[CV 4/5; 14/15] END clf__C=30, clf__max_iter=300;, score=0.865 total time= 1.6min\n",
      "[CV 1/5; 2/15] START clf__C=0.01, clf__max_iter=300.............................\n",
      "[CV 1/5; 2/15] END clf__C=0.01, clf__max_iter=300;, score=0.833 total time=   2.1s\n",
      "[CV 5/5; 3/15] START clf__C=0.01, clf__max_iter=500.............................\n",
      "[CV 5/5; 3/15] END clf__C=0.01, clf__max_iter=500;, score=0.819 total time=   2.0s\n",
      "[CV 1/5; 6/15] START clf__C=0.1, clf__max_iter=500..............................\n",
      "[CV 1/5; 6/15] END clf__C=0.1, clf__max_iter=500;, score=0.868 total time=   4.6s\n",
      "[CV 1/5; 8/15] START clf__C=1, clf__max_iter=300................................\n",
      "[CV 1/5; 8/15] END .clf__C=1, clf__max_iter=300;, score=0.875 total time= 1.2min\n",
      "[CV 2/5; 11/15] START clf__C=10, clf__max_iter=300..............................\n",
      "[CV 2/5; 11/15] END clf__C=10, clf__max_iter=300;, score=0.876 total time=  51.1s\n",
      "[CV 2/5; 14/15] START clf__C=30, clf__max_iter=300..............................\n",
      "[CV 2/5; 14/15] END clf__C=30, clf__max_iter=300;, score=0.875 total time= 1.7min\n"
     ]
    },
    {
     "name": "stderr",
     "output_type": "stream",
     "text": [
      "/home/app/.local/lib/python3.8/site-packages/sklearn/linear_model/_logistic.py:444: ConvergenceWarning: lbfgs failed to converge (status=1):\n",
      "STOP: TOTAL NO. of ITERATIONS REACHED LIMIT.\n",
      "\n",
      "Increase the number of iterations (max_iter) or scale the data as shown in:\n",
      "    https://scikit-learn.org/stable/modules/preprocessing.html\n",
      "Please also refer to the documentation for alternative solver options:\n",
      "    https://scikit-learn.org/stable/modules/linear_model.html#logistic-regression\n",
      "  n_iter_i = _check_optimize_result(\n",
      "/home/app/.local/lib/python3.8/site-packages/sklearn/linear_model/_logistic.py:444: ConvergenceWarning: lbfgs failed to converge (status=1):\n",
      "STOP: TOTAL NO. of ITERATIONS REACHED LIMIT.\n",
      "\n",
      "Increase the number of iterations (max_iter) or scale the data as shown in:\n",
      "    https://scikit-learn.org/stable/modules/preprocessing.html\n",
      "Please also refer to the documentation for alternative solver options:\n",
      "    https://scikit-learn.org/stable/modules/linear_model.html#logistic-regression\n",
      "  n_iter_i = _check_optimize_result(\n",
      "/home/app/.local/lib/python3.8/site-packages/sklearn/linear_model/_logistic.py:444: ConvergenceWarning: lbfgs failed to converge (status=1):\n",
      "STOP: TOTAL NO. of ITERATIONS REACHED LIMIT.\n",
      "\n",
      "Increase the number of iterations (max_iter) or scale the data as shown in:\n",
      "    https://scikit-learn.org/stable/modules/preprocessing.html\n",
      "Please also refer to the documentation for alternative solver options:\n",
      "    https://scikit-learn.org/stable/modules/linear_model.html#logistic-regression\n",
      "  n_iter_i = _check_optimize_result(\n",
      "/home/app/.local/lib/python3.8/site-packages/sklearn/linear_model/_logistic.py:444: ConvergenceWarning: lbfgs failed to converge (status=1):\n",
      "STOP: TOTAL NO. of ITERATIONS REACHED LIMIT.\n",
      "\n",
      "Increase the number of iterations (max_iter) or scale the data as shown in:\n",
      "    https://scikit-learn.org/stable/modules/preprocessing.html\n",
      "Please also refer to the documentation for alternative solver options:\n",
      "    https://scikit-learn.org/stable/modules/linear_model.html#logistic-regression\n",
      "  n_iter_i = _check_optimize_result(\n",
      "/home/app/.local/lib/python3.8/site-packages/sklearn/linear_model/_logistic.py:444: ConvergenceWarning: lbfgs failed to converge (status=1):\n",
      "STOP: TOTAL NO. of ITERATIONS REACHED LIMIT.\n",
      "\n",
      "Increase the number of iterations (max_iter) or scale the data as shown in:\n",
      "    https://scikit-learn.org/stable/modules/preprocessing.html\n",
      "Please also refer to the documentation for alternative solver options:\n",
      "    https://scikit-learn.org/stable/modules/linear_model.html#logistic-regression\n",
      "  n_iter_i = _check_optimize_result(\n"
     ]
    },
    {
     "name": "stdout",
     "output_type": "stream",
     "text": [
      "[CV 3/5; 2/15] START clf__C=0.01, clf__max_iter=300.............................\n",
      "[CV 3/5; 2/15] END clf__C=0.01, clf__max_iter=300;, score=0.832 total time=   2.8s\n",
      "[CV 2/5; 5/15] START clf__C=0.1, clf__max_iter=300..............................\n",
      "[CV 2/5; 5/15] END clf__C=0.1, clf__max_iter=300;, score=0.873 total time=  21.9s\n",
      "[CV 4/5; 9/15] START clf__C=1, clf__max_iter=500................................\n",
      "[CV 4/5; 9/15] END .clf__C=1, clf__max_iter=500;, score=0.865 total time=  51.8s\n",
      "[CV 4/5; 10/15] START clf__C=10, clf__max_iter=100..............................\n",
      "[CV 4/5; 10/15] END clf__C=10, clf__max_iter=100;, score=0.864 total time=  48.9s\n",
      "[CV 4/5; 12/15] START clf__C=10, clf__max_iter=500..............................\n",
      "[CV 4/5; 12/15] END clf__C=10, clf__max_iter=500;, score=0.865 total time=  20.6s\n",
      "[CV 1/5; 15/15] START clf__C=30, clf__max_iter=500..............................\n",
      "[CV 1/5; 15/15] END clf__C=30, clf__max_iter=500;, score=0.876 total time= 1.6min\n"
     ]
    },
    {
     "name": "stderr",
     "output_type": "stream",
     "text": [
      "/home/app/.local/lib/python3.8/site-packages/sklearn/linear_model/_logistic.py:444: ConvergenceWarning: lbfgs failed to converge (status=1):\n",
      "STOP: TOTAL NO. of ITERATIONS REACHED LIMIT.\n",
      "\n",
      "Increase the number of iterations (max_iter) or scale the data as shown in:\n",
      "    https://scikit-learn.org/stable/modules/preprocessing.html\n",
      "Please also refer to the documentation for alternative solver options:\n",
      "    https://scikit-learn.org/stable/modules/linear_model.html#logistic-regression\n",
      "  n_iter_i = _check_optimize_result(\n"
     ]
    },
    {
     "name": "stdout",
     "output_type": "stream",
     "text": [
      "[CV 4/5; 2/15] START clf__C=0.01, clf__max_iter=300.............................\n",
      "[CV 4/5; 2/15] END clf__C=0.01, clf__max_iter=300;, score=0.819 total time=   3.0s\n",
      "[CV 4/5; 5/15] START clf__C=0.1, clf__max_iter=300..............................\n",
      "[CV 4/5; 5/15] END clf__C=0.1, clf__max_iter=300;, score=0.854 total time=   5.4s\n",
      "[CV 5/5; 7/15] START clf__C=1, clf__max_iter=100................................\n",
      "[CV 5/5; 7/15] END .clf__C=1, clf__max_iter=100;, score=0.867 total time= 1.1min\n",
      "[CV 1/5; 10/15] START clf__C=10, clf__max_iter=100..............................\n",
      "[CV 1/5; 10/15] END clf__C=10, clf__max_iter=100;, score=0.874 total time=  53.3s\n",
      "[CV 1/5; 13/15] START clf__C=30, clf__max_iter=100..............................\n",
      "[CV 1/5; 13/15] END clf__C=30, clf__max_iter=100;, score=0.874 total time=  10.8s\n",
      "[CV 3/5; 13/15] START clf__C=30, clf__max_iter=100..............................\n",
      "[CV 3/5; 13/15] END clf__C=30, clf__max_iter=100;, score=0.866 total time= 1.3min\n",
      "[CV 5/5; 15/15] START clf__C=30, clf__max_iter=500..............................\n",
      "[CV 5/5; 15/15] END clf__C=30, clf__max_iter=500;, score=0.870 total time=  28.7s\n",
      "[CV 1/5; 3/15] START clf__C=0.01, clf__max_iter=500.............................\n",
      "[CV 1/5; 3/15] END clf__C=0.01, clf__max_iter=500;, score=0.833 total time=   2.6s\n",
      "[CV 1/5; 5/15] START clf__C=0.1, clf__max_iter=300..............................\n",
      "[CV 1/5; 5/15] END clf__C=0.1, clf__max_iter=300;, score=0.868 total time=   4.3s\n",
      "[CV 5/5; 6/15] START clf__C=0.1, clf__max_iter=500..............................\n",
      "[CV 5/5; 6/15] END clf__C=0.1, clf__max_iter=500;, score=0.858 total time=   2.5s\n",
      "[CV 3/5; 8/15] START clf__C=1, clf__max_iter=300................................\n",
      "[CV 3/5; 8/15] END .clf__C=1, clf__max_iter=300;, score=0.869 total time= 1.9min\n",
      "[CV 5/5; 12/15] START clf__C=10, clf__max_iter=500..............................\n",
      "[CV 5/5; 12/15] END clf__C=10, clf__max_iter=500;, score=0.870 total time=  35.6s\n",
      "[CV 4/5; 15/15] START clf__C=30, clf__max_iter=500..............................\n",
      "[CV 4/5; 15/15] END clf__C=30, clf__max_iter=500;, score=0.865 total time= 1.4min\n",
      "[CV 3/5; 1/15] START clf__C=0.01, clf__max_iter=100.............................\n",
      "[CV 3/5; 1/15] END clf__C=0.01, clf__max_iter=100;, score=0.832 total time=   2.5s\n",
      "[CV 3/5; 4/15] START clf__C=0.1, clf__max_iter=100..............................\n",
      "[CV 3/5; 4/15] END clf__C=0.1, clf__max_iter=100;, score=0.863 total time=   4.9s\n",
      "[CV 2/5; 7/15] START clf__C=1, clf__max_iter=100................................\n",
      "[CV 2/5; 7/15] END .clf__C=1, clf__max_iter=100;, score=0.876 total time=   3.6s\n",
      "[CV 5/5; 8/15] START clf__C=1, clf__max_iter=300................................\n",
      "[CV 5/5; 8/15] END .clf__C=1, clf__max_iter=300;, score=0.867 total time= 1.1min\n",
      "[CV 5/5; 10/15] START clf__C=10, clf__max_iter=100..............................\n",
      "[CV 5/5; 10/15] END clf__C=10, clf__max_iter=100;, score=0.869 total time=  46.4s\n",
      "[CV 3/5; 12/15] START clf__C=10, clf__max_iter=500..............................\n",
      "[CV 3/5; 12/15] END clf__C=10, clf__max_iter=500;, score=0.869 total time=  36.0s\n",
      "[CV 3/5; 15/15] START clf__C=30, clf__max_iter=500..............................\n",
      "[CV 3/5; 15/15] END clf__C=30, clf__max_iter=500;, score=0.869 total time= 1.4min\n"
     ]
    },
    {
     "name": "stderr",
     "output_type": "stream",
     "text": [
      "/home/app/.local/lib/python3.8/site-packages/sklearn/linear_model/_logistic.py:444: ConvergenceWarning: lbfgs failed to converge (status=1):\n",
      "STOP: TOTAL NO. of ITERATIONS REACHED LIMIT.\n",
      "\n",
      "Increase the number of iterations (max_iter) or scale the data as shown in:\n",
      "    https://scikit-learn.org/stable/modules/preprocessing.html\n",
      "Please also refer to the documentation for alternative solver options:\n",
      "    https://scikit-learn.org/stable/modules/linear_model.html#logistic-regression\n",
      "  n_iter_i = _check_optimize_result(\n",
      "/home/app/.local/lib/python3.8/site-packages/sklearn/linear_model/_logistic.py:444: ConvergenceWarning: lbfgs failed to converge (status=1):\n",
      "STOP: TOTAL NO. of ITERATIONS REACHED LIMIT.\n",
      "\n",
      "Increase the number of iterations (max_iter) or scale the data as shown in:\n",
      "    https://scikit-learn.org/stable/modules/preprocessing.html\n",
      "Please also refer to the documentation for alternative solver options:\n",
      "    https://scikit-learn.org/stable/modules/linear_model.html#logistic-regression\n",
      "  n_iter_i = _check_optimize_result(\n",
      "/home/app/.local/lib/python3.8/site-packages/sklearn/linear_model/_logistic.py:444: ConvergenceWarning: lbfgs failed to converge (status=1):\n",
      "STOP: TOTAL NO. of ITERATIONS REACHED LIMIT.\n",
      "\n",
      "Increase the number of iterations (max_iter) or scale the data as shown in:\n",
      "    https://scikit-learn.org/stable/modules/preprocessing.html\n",
      "Please also refer to the documentation for alternative solver options:\n",
      "    https://scikit-learn.org/stable/modules/linear_model.html#logistic-regression\n",
      "  n_iter_i = _check_optimize_result(\n",
      "/home/app/.local/lib/python3.8/site-packages/sklearn/linear_model/_logistic.py:444: ConvergenceWarning: lbfgs failed to converge (status=1):\n",
      "STOP: TOTAL NO. of ITERATIONS REACHED LIMIT.\n",
      "\n",
      "Increase the number of iterations (max_iter) or scale the data as shown in:\n",
      "    https://scikit-learn.org/stable/modules/preprocessing.html\n",
      "Please also refer to the documentation for alternative solver options:\n",
      "    https://scikit-learn.org/stable/modules/linear_model.html#logistic-regression\n",
      "  n_iter_i = _check_optimize_result(\n",
      "/home/app/.local/lib/python3.8/site-packages/sklearn/linear_model/_logistic.py:444: ConvergenceWarning: lbfgs failed to converge (status=1):\n",
      "STOP: TOTAL NO. of ITERATIONS REACHED LIMIT.\n",
      "\n",
      "Increase the number of iterations (max_iter) or scale the data as shown in:\n",
      "    https://scikit-learn.org/stable/modules/preprocessing.html\n",
      "Please also refer to the documentation for alternative solver options:\n",
      "    https://scikit-learn.org/stable/modules/linear_model.html#logistic-regression\n",
      "  n_iter_i = _check_optimize_result(\n",
      "/home/app/.local/lib/python3.8/site-packages/sklearn/linear_model/_logistic.py:444: ConvergenceWarning: lbfgs failed to converge (status=1):\n",
      "STOP: TOTAL NO. of ITERATIONS REACHED LIMIT.\n",
      "\n",
      "Increase the number of iterations (max_iter) or scale the data as shown in:\n",
      "    https://scikit-learn.org/stable/modules/preprocessing.html\n",
      "Please also refer to the documentation for alternative solver options:\n",
      "    https://scikit-learn.org/stable/modules/linear_model.html#logistic-regression\n",
      "  n_iter_i = _check_optimize_result(\n",
      "/home/app/.local/lib/python3.8/site-packages/sklearn/linear_model/_logistic.py:444: ConvergenceWarning: lbfgs failed to converge (status=1):\n",
      "STOP: TOTAL NO. of ITERATIONS REACHED LIMIT.\n",
      "\n",
      "Increase the number of iterations (max_iter) or scale the data as shown in:\n",
      "    https://scikit-learn.org/stable/modules/preprocessing.html\n",
      "Please also refer to the documentation for alternative solver options:\n",
      "    https://scikit-learn.org/stable/modules/linear_model.html#logistic-regression\n",
      "  n_iter_i = _check_optimize_result(\n",
      "/home/app/.local/lib/python3.8/site-packages/sklearn/linear_model/_logistic.py:444: ConvergenceWarning: lbfgs failed to converge (status=1):\n",
      "STOP: TOTAL NO. of ITERATIONS REACHED LIMIT.\n",
      "\n",
      "Increase the number of iterations (max_iter) or scale the data as shown in:\n",
      "    https://scikit-learn.org/stable/modules/preprocessing.html\n",
      "Please also refer to the documentation for alternative solver options:\n",
      "    https://scikit-learn.org/stable/modules/linear_model.html#logistic-regression\n",
      "  n_iter_i = _check_optimize_result(\n"
     ]
    }
   ],
   "source": [
    "evaluation.get_performance(predictions=predictions_lr_pre, y_test=y_test)"
   ]
  },
  {
   "cell_type": "code",
   "execution_count": null,
   "metadata": {},
   "outputs": [],
   "source": []
  }
 ],
 "metadata": {
  "anaconda-cloud": {},
  "kernelspec": {
   "display_name": "Python 3 (ipykernel)",
   "language": "python",
   "name": "python3"
  },
  "language_info": {
   "codemirror_mode": {
    "name": "ipython",
    "version": 3
   },
   "file_extension": ".py",
   "mimetype": "text/x-python",
   "name": "python",
   "nbconvert_exporter": "python",
   "pygments_lexer": "ipython3",
   "version": "3.8.13"
  },
  "vscode": {
   "interpreter": {
    "hash": "8d2de1e3fee56e19e939027d243a10545dab4a9e8598123a65955d48998f60ec"
   }
  }
 },
 "nbformat": 4,
 "nbformat_minor": 1
}
